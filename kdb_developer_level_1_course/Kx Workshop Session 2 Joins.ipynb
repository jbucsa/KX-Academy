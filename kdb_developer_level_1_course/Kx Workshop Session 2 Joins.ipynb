{
 "cells": [
  {
   "cell_type": "code",
   "execution_count": 2,
   "metadata": {
    "autorun": true,
    "init_cell": true,
    "tags": []
   },
   "outputs": [
    {
     "name": "stdout",
     "output_type": "stream",
     "text": [
      "\"Initializing variables\"\n",
      "\"Loaded Weather CSV\"\n",
      "\"Loaded Taxi Trips partitioned DB\"\n",
      "\"Defining exercise results\"\n",
      "\"Ready\"\n"
     ]
    }
   ],
   "source": [
    "system\"cd \",getenv[`HOME],\"/course-introductory-workshop\"\n",
    ".trn.nbdir:system\"cd\"\n",
    "\\l scripts/loaddata.q"
   ]
  },
  {
   "cell_type": "markdown",
   "metadata": {},
   "source": [
    "**Learning objective**\n",
    "* How to apply a left join\n",
    "* How to apply an as-of join\n",
    "\n",
    "# Joins\n",
    "\n",
    "A join combines data from two tables, or from a table and a dictionary.\n",
    "\n",
    "Some joins are keyed, in that columns in the first argument are matched with the key columns of the second argument.\n",
    "\n",
    "Some joins are as-of, where a time column in the first argument specifies corresponding intervals in a time column of the second argument. Such joins are not keyed.\n",
    "\n",
    "In each case, the result has the merge of columns from both arguments. Where necessary, rows are filled with nulls or zeros. \n",
    "\n",
    "Here is a list of some joins possible using kdb+/q:\n",
    "\n",
    "+ [Left Join](https://code.kx.com/q/ref/lj/)\n",
    "+ [AJ (As-of) Join](https://code.kx.com/q/ref/aj/)\n",
    "\n",
    "In order to demonstrate some common join types we will use data from preloaded table, `weather`,  which corresponds to the same time as our taxi data. In this case we will load some weather data and try and get some insight in how this affected taxi journeys around this period."
   ]
  },
  {
   "cell_type": "code",
   "execution_count": 3,
   "metadata": {},
   "outputs": [
    {
     "data": {
      "text/plain": [
       "31\n"
      ]
     },
     "execution_count": 3,
     "metadata": {},
     "output_type": "execute_result"
    },
    {
     "data": {
      "text/plain": [
       "c            | t f a\n",
       "-------------| -----\n",
       "date         | d    \n",
       "maxtemp      | f    \n",
       "mintemp      | f    \n",
       "avgtemp      | f    \n",
       "departuretemp| f    \n",
       "hdd          | f    \n",
       "cdd          | f    \n",
       "precip       | f    \n",
       "newsnow      | f    \n",
       "snowdepth    | f    \n"
      ]
     },
     "execution_count": 3,
     "metadata": {},
     "output_type": "execute_result"
    }
   ],
   "source": [
    "// Check number of records in weather and the meta\n",
    "count weather\n",
    "meta weather"
   ]
  },
  {
   "cell_type": "code",
   "execution_count": 4,
   "metadata": {},
   "outputs": [
    {
     "data": {
      "text/plain": [
       "mindate    maxdate   \n",
       "---------------------\n",
       "2009.01.01 2009.01.31\n"
      ]
     },
     "execution_count": 4,
     "metadata": {},
     "output_type": "execute_result"
    }
   ],
   "source": [
    "select mindate:min date, maxdate:max date from weather"
   ]
  },
  {
   "cell_type": "markdown",
   "metadata": {
    "reveal": "uqbd8ge3qkl",
    "reveal-hidden": false,
    "tags": []
   },
   "source": [
    "##### Exercise 9\n",
    "- Display the max and min temperatures for NYC each week through January (For this query a week is just every 7 days)"
   ]
  },
  {
   "cell_type": "code",
   "execution_count": 5,
   "metadata": {
    "reveal": "uqbd8ge3qkl"
   },
   "outputs": [
    {
     "data": {
      "text/plain": [
       "date      | maxtemp mintemp\n",
       "----------| ---------------\n",
       "2008.12.27| 34      15     \n",
       "2009.01.03| 43      25     \n",
       "2009.01.10| 41      9      \n",
       "2009.01.17| 47      6      \n",
       "2009.01.24| 46      13     \n",
       "2009.01.31| 27      20     \n"
      ]
     },
     "execution_count": 5,
     "metadata": {},
     "output_type": "execute_result"
    }
   ],
   "source": [
    "select max maxtemp, min mintemp by 7 xbar date from weather\n",
    "//alternative way- select max maxtemp, min mintemp by date.week from weather"
   ]
  },
  {
   "cell_type": "markdown",
   "metadata": {
    "reveal": "uqbd8ge3qkl"
   },
   "source": [
    " <img src=\"images/qbies.png\" width=\"50px\" align=\"left\"/><p style='color:#273a6e'><i> Note the difference in start date in the 2 solutions. In kdb+/q when using 7 xbar the date jumps from one Saturday to the next Saturday. This is because kdb+ follows the J2000 international standard starting from 2000.01.01 which happens to be a Saturday. When using date.week the date starts from a Monday as this is the first day of a week in kdb+.  </i></p>"
   ]
  },
  {
   "cell_type": "code",
   "execution_count": null,
   "metadata": {},
   "outputs": [],
   "source": [
    "//Enter your code here "
   ]
  },
  {
   "cell_type": "code",
   "execution_count": 6,
   "metadata": {},
   "outputs": [
    {
     "data": {
      "text/plain": [
       "date      | maxtemp mintemp\n",
       "----------| ---------------\n",
       "2008.12.27| 34      15     \n",
       "2009.01.03| 43      25     \n",
       "2009.01.10| 41      9      \n",
       "2009.01.17| 47      6      \n",
       "2009.01.24| 46      13     \n",
       "2009.01.31| 27      20     \n"
      ]
     },
     "execution_count": 6,
     "metadata": {},
     "output_type": "execute_result"
    }
   ],
   "source": [
    "ex9[] //check correct output"
   ]
  },
  {
   "cell_type": "markdown",
   "metadata": {},
   "source": [
    "We now have two tables of related data, taxi trips and weather data, for each day on which a trip occurred.\n",
    "\n",
    "It would be nice to combine these tables so we could easily ask questions across both data sets.\n",
    "\n",
    "For example, are average trip durations shorter or longer on days with lots of precipitation?"
   ]
  },
  {
   "cell_type": "markdown",
   "metadata": {},
   "source": [
    "## Left Join\n",
    "\n",
    "Like other SQL languages, qSQL supports a number of join operations. Here we will use a left join to create a single table containing both trip and weather data. In kdb+/q the `lj` operator requires one or more common columns between the tables to join across. \n",
    "\n",
    "`t1 lj t2` - [left join](https://code.kx.com/q/ref/lj/)"
   ]
  },
  {
   "cell_type": "markdown",
   "metadata": {},
   "source": [
    "<img src=\"images/LeftJoin.png\" width=\"400\" height=\"200\">"
   ]
  },
  {
   "cell_type": "markdown",
   "metadata": {},
   "source": [
    "For our purpose we will be looking at the daily weather data so we'll use the `date` column, which is in both tables."
   ]
  },
  {
   "cell_type": "code",
   "execution_count": 12,
   "metadata": {},
   "outputs": [
    {
     "data": {
      "text/plain": [
       "date      | trips \n",
       "----------| ------\n",
       "2009.01.01| 327625\n",
       "2009.01.02| 376708\n",
       "2009.01.03| 432710\n",
       "2009.01.04| 367525\n",
       "2009.01.05| 370901\n",
       "2009.01.06| 427394\n",
       "2009.01.07| 371043\n",
       "2009.01.08| 477502\n",
       "2009.01.09| 520846\n",
       "2009.01.10| 483350\n",
       "2009.01.11| 405075\n",
       "2009.01.12| 414642\n",
       "2009.01.13| 442543\n",
       "2009.01.14| 489177\n",
       "2009.01.15| 486450\n",
       "2009.01.16| 535200\n",
       "2009.01.17| 511023\n",
       "2009.01.18| 419962\n",
       "2009.01.19| 352534\n",
       "2009.01.20| 433639\n",
       "..\n"
      ]
     },
     "execution_count": 12,
     "metadata": {},
     "output_type": "execute_result"
    }
   ],
   "source": [
    "// Find the number of trips per day\n",
    "\n",
    "jan09:select from trips where date within 2009.01.01 2009.01.31\n",
    "jan09C:select trips: count i by date from jan09\n",
    "jan09C"
   ]
  },
  {
   "cell_type": "markdown",
   "metadata": {},
   "source": [
    "Looking more closely at `jan09C`, it doesn't look like a normal kdb+ table as there is a vertical line appearing between the columns `date` and `x`. This informs us that this table is actually a **keyed table** which we require to have in most kdb+ joins. But how do we create keyed tables explicitly ? Well, we have two choices:\n",
    "\n",
    "1. Using the syntax above - we can use a by clause \n",
    "2. Using [xkey](https://code.kx.com/q/ref/keys/#xkey) or [!(bang)](https://code.kx.com/q/ref/enkey/)"
   ]
  },
  {
   "cell_type": "code",
   "execution_count": 13,
   "metadata": {},
   "outputs": [
    {
     "data": {
      "text/plain": [
       "date      | maxtemp mintemp avgtemp departuretemp hdd cdd precip newsnow snow..\n",
       "----------| -----------------------------------------------------------------..\n",
       "2009.01.01| 26      15      20.5    -12.9         44  0   0      0       0   ..\n",
       "2009.01.02| 34      23      28.5    -4.8          36  0                  0   ..\n",
       "2009.01.03| 38      29      33.5    0.4           31  0                  0   ..\n",
       "2009.01.04| 42      25      33.5    0.5           31  0   0      0       0   ..\n",
       "2009.01.05| 43      38      40.5    7.6           24  0          0       0   ..\n",
       "2009.01.06| 38      31      34.5    1.7           30  0   0.08           0   ..\n",
       "2009.01.07| 38      31      34.5    1.8           30  0   1.19   0       0   ..\n",
       "2009.01.08| 38      29      33.5    0.9           31  0   0      0       0   ..\n",
       "2009.01.09| 32      26      29      -3.5          36  0   0      0       0   ..\n",
       "2009.01.10| 30      23      26.5    -5.9          38  0   0.14   1       0   ..\n",
       "2009.01.11| 31      24      27.5    -4.9          37  0   0.19           1   ..\n",
       "2009.01.12| 33      21      27      -5.3          38  0   0      0       1   ..\n",
       "2009.01.13| 41      28      34.5    2.2           30  0   0      0       0   ..\n",
       "2009.01.14| 36      16      26      -6.3          39  0   0      0       0   ..\n",
       "2009.01.15| 22      15      18.5    -13.8         46  0   0.05   1       1   ..\n",
       "2009.01.16| 16      9       12.5    -19.7         52  0   0      0       0   ..\n",
       "2009.01.17| 22      6       14      -18.2         51  0   0      0       0   ..\n",
       "2009.01.18| 35      22      28.5    -3.8          36  0   0.18   2.2         ..\n",
       "2009.01.19| 33      26      29.5    -2.8          35  0   0.18   1.8     3   ..\n",
       "2009.01.20| 29      19      24      -8.3          41  0   0      0       4   ..\n",
       "..\n"
      ]
     },
     "execution_count": 13,
     "metadata": {},
     "output_type": "execute_result"
    },
    {
     "data": {
      "text/plain": [
       "date      | maxtemp mintemp avgtemp departuretemp hdd cdd precip newsnow snow..\n",
       "----------| -----------------------------------------------------------------..\n",
       "2009.01.01| 26      15      20.5    -12.9         44  0   0      0       0   ..\n",
       "2009.01.02| 34      23      28.5    -4.8          36  0                  0   ..\n",
       "2009.01.03| 38      29      33.5    0.4           31  0                  0   ..\n",
       "2009.01.04| 42      25      33.5    0.5           31  0   0      0       0   ..\n",
       "2009.01.05| 43      38      40.5    7.6           24  0          0       0   ..\n",
       "2009.01.06| 38      31      34.5    1.7           30  0   0.08           0   ..\n",
       "2009.01.07| 38      31      34.5    1.8           30  0   1.19   0       0   ..\n",
       "2009.01.08| 38      29      33.5    0.9           31  0   0      0       0   ..\n",
       "2009.01.09| 32      26      29      -3.5          36  0   0      0       0   ..\n",
       "2009.01.10| 30      23      26.5    -5.9          38  0   0.14   1       0   ..\n",
       "2009.01.11| 31      24      27.5    -4.9          37  0   0.19           1   ..\n",
       "2009.01.12| 33      21      27      -5.3          38  0   0      0       1   ..\n",
       "2009.01.13| 41      28      34.5    2.2           30  0   0      0       0   ..\n",
       "2009.01.14| 36      16      26      -6.3          39  0   0      0       0   ..\n",
       "2009.01.15| 22      15      18.5    -13.8         46  0   0.05   1       1   ..\n",
       "2009.01.16| 16      9       12.5    -19.7         52  0   0      0       0   ..\n",
       "2009.01.17| 22      6       14      -18.2         51  0   0      0       0   ..\n",
       "2009.01.18| 35      22      28.5    -3.8          36  0   0.18   2.2         ..\n",
       "2009.01.19| 33      26      29.5    -2.8          35  0   0.18   1.8     3   ..\n",
       "2009.01.20| 29      19      24      -8.3          41  0   0      0       4   ..\n",
       "..\n"
      ]
     },
     "execution_count": 13,
     "metadata": {},
     "output_type": "execute_result"
    },
    {
     "data": {
      "text/plain": [
       "date       maxtemp mintemp| avgtemp departuretemp hdd cdd precip newsnow snow..\n",
       "--------------------------| -------------------------------------------------..\n",
       "2009.01.01 26      15     | 20.5    -12.9         44  0   0      0       0   ..\n",
       "2009.01.02 34      23     | 28.5    -4.8          36  0                  0   ..\n",
       "2009.01.03 38      29     | 33.5    0.4           31  0                  0   ..\n",
       "2009.01.04 42      25     | 33.5    0.5           31  0   0      0       0   ..\n",
       "2009.01.05 43      38     | 40.5    7.6           24  0          0       0   ..\n",
       "2009.01.06 38      31     | 34.5    1.7           30  0   0.08           0   ..\n",
       "2009.01.07 38      31     | 34.5    1.8           30  0   1.19   0       0   ..\n",
       "2009.01.08 38      29     | 33.5    0.9           31  0   0      0       0   ..\n",
       "2009.01.09 32      26     | 29      -3.5          36  0   0      0       0   ..\n",
       "2009.01.10 30      23     | 26.5    -5.9          38  0   0.14   1       0   ..\n",
       "2009.01.11 31      24     | 27.5    -4.9          37  0   0.19           1   ..\n",
       "2009.01.12 33      21     | 27      -5.3          38  0   0      0       1   ..\n",
       "2009.01.13 41      28     | 34.5    2.2           30  0   0      0       0   ..\n",
       "2009.01.14 36      16     | 26      -6.3          39  0   0      0       0   ..\n",
       "2009.01.15 22      15     | 18.5    -13.8         46  0   0.05   1       1   ..\n",
       "2009.01.16 16      9      | 12.5    -19.7         52  0   0      0       0   ..\n",
       "2009.01.17 22      6      | 14      -18.2         51  0   0      0       0   ..\n",
       "2009.01.18 35      22     | 28.5    -3.8          36  0   0.18   2.2         ..\n",
       "2009.01.19 33      26     | 29.5    -2.8          35  0   0.18   1.8     3   ..\n",
       "2009.01.20 29      19     | 24      -8.3          41  0   0      0       4   ..\n",
       "..\n"
      ]
     },
     "execution_count": 13,
     "metadata": {},
     "output_type": "execute_result"
    }
   ],
   "source": [
    "`date xkey weather //we are keying on date \n",
    "1!weather          //we are keying on the first column \n",
    "3!weather          //we can key on N number of columns"
   ]
  },
  {
   "cell_type": "markdown",
   "metadata": {},
   "source": [
    "If we want to unkey a keyed table using the `!`: "
   ]
  },
  {
   "cell_type": "code",
   "execution_count": 14,
   "metadata": {},
   "outputs": [
    {
     "data": {
      "text/plain": [
       "date       trips \n",
       "-----------------\n",
       "2009.01.01 327625\n",
       "2009.01.02 376708\n",
       "2009.01.03 432710\n",
       "2009.01.04 367525\n",
       "2009.01.05 370901\n",
       "2009.01.06 427394\n",
       "2009.01.07 371043\n",
       "2009.01.08 477502\n",
       "2009.01.09 520846\n",
       "2009.01.10 483350\n",
       "2009.01.11 405075\n",
       "2009.01.12 414642\n",
       "2009.01.13 442543\n",
       "2009.01.14 489177\n",
       "2009.01.15 486450\n",
       "2009.01.16 535200\n",
       "2009.01.17 511023\n",
       "2009.01.18 419962\n",
       "2009.01.19 352534\n",
       "2009.01.20 433639\n",
       "..\n"
      ]
     },
     "execution_count": 14,
     "metadata": {},
     "output_type": "execute_result"
    }
   ],
   "source": [
    "0!jan09C     "
   ]
  },
  {
   "cell_type": "markdown",
   "metadata": {},
   "source": [
    "The `lj` operator requires that at least the right hand table argument be keyed. A table can be keyed in a number of ways, however the easiest is to use the [`xkey`](https://code.kx.com/q/ref/keys/#xkey) function"
   ]
  },
  {
   "cell_type": "code",
   "execution_count": 18,
   "metadata": {},
   "outputs": [
    {
     "data": {
      "text/plain": [
       "date      | trips  precip\n",
       "----------| -------------\n",
       "2009.01.01| 327625 0     \n",
       "2009.01.02| 376708       \n",
       "2009.01.03| 432710       \n",
       "2009.01.04| 367525 0     \n",
       "2009.01.05| 370901       \n",
       "2009.01.06| 427394 0.08  \n",
       "2009.01.07| 371043 1.19  \n",
       "2009.01.08| 477502 0     \n",
       "2009.01.09| 520846 0     \n",
       "2009.01.10| 483350 0.14  \n",
       "2009.01.11| 405075 0.19  \n",
       "2009.01.12| 414642 0     \n",
       "2009.01.13| 442543 0     \n",
       "2009.01.14| 489177 0     \n",
       "2009.01.15| 486450 0.05  \n",
       "2009.01.16| 535200 0     \n",
       "2009.01.17| 511023 0     \n",
       "2009.01.18| 419962 0.18  \n",
       "2009.01.19| 352534 0.18  \n",
       "2009.01.20| 433639 0     \n",
       "..\n"
      ]
     },
     "execution_count": 18,
     "metadata": {},
     "output_type": "execute_result"
    }
   ],
   "source": [
    "// select date and precipitation from the weather table\n",
    "// key the result on date\n",
    "// join to the unkeyed table jan09C (0! unkeys the table)\n",
    "jan09W:jan09C lj `date xkey select date, precip from weather \n",
    "jan09W\n",
    "\n",
    "jan09W:jan09C lj select avg precip by date from weather //using the by clause to key"
   ]
  },
  {
   "cell_type": "markdown",
   "metadata": {},
   "source": [
    "Let's check will we get the same result if the left hand table is unkeyed?"
   ]
  },
  {
   "cell_type": "code",
   "execution_count": 19,
   "metadata": {},
   "outputs": [
    {
     "data": {
      "text/plain": [
       "date       trips  precip\n",
       "------------------------\n",
       "2009.01.01 327625 0     \n",
       "2009.01.02 376708       \n",
       "2009.01.03 432710       \n",
       "2009.01.04 367525 0     \n",
       "2009.01.05 370901       \n",
       "2009.01.06 427394 0.08  \n",
       "2009.01.07 371043 1.19  \n",
       "2009.01.08 477502 0     \n",
       "2009.01.09 520846 0     \n",
       "2009.01.10 483350 0.14  \n",
       "2009.01.11 405075 0.19  \n",
       "2009.01.12 414642 0     \n",
       "2009.01.13 442543 0     \n",
       "2009.01.14 489177 0     \n",
       "2009.01.15 486450 0.05  \n",
       "2009.01.16 535200 0     \n",
       "2009.01.17 511023 0     \n",
       "2009.01.18 419962 0.18  \n",
       "2009.01.19 352534 0.18  \n",
       "2009.01.20 433639 0     \n",
       "..\n"
      ]
     },
     "execution_count": 19,
     "metadata": {},
     "output_type": "execute_result"
    }
   ],
   "source": [
    "unkeyedJan09C:0!jan09C\n",
    "unkeyedJan09C lj `date xkey select date, precip from weather"
   ]
  },
  {
   "cell_type": "markdown",
   "metadata": {},
   "source": [
    " <img src=\"images/qbies.png\" width=\"50px\" align=\"left\"/><p style='color:#273a6e'><i> The left-hand table can be keyed or unkeyed. The format of the left-hand table will dictate the format of the result table. </i></p> "
   ]
  },
  {
   "cell_type": "markdown",
   "metadata": {},
   "source": [
    "Now we can look at trips vs precipitation"
   ]
  },
  {
   "cell_type": "code",
   "execution_count": 20,
   "metadata": {},
   "outputs": [
    {
     "data": {
      "text/plain": [
       "date       trips  precip\n",
       "------------------------\n",
       "2009.01.01 327625 0     \n",
       "2009.01.02 376708       \n",
       "2009.01.03 432710       \n",
       "2009.01.04 367525 0     \n",
       "2009.01.05 370901       \n",
       "2009.01.06 427394 0.08  \n",
       "2009.01.07 371043 1.19  \n",
       "2009.01.08 477502 0     \n",
       "2009.01.09 520846 0     \n",
       "2009.01.10 483350 0.14  \n",
       "2009.01.11 405075 0.19  \n",
       "2009.01.12 414642 0     \n",
       "2009.01.13 442543 0     \n",
       "2009.01.14 489177 0     \n",
       "2009.01.15 486450 0.05  \n",
       "2009.01.16 535200 0     \n",
       "2009.01.17 511023 0     \n",
       "2009.01.18 419962 0.18  \n",
       "2009.01.19 352534 0.18  \n",
       "2009.01.20 433639 0     \n",
       "..\n"
      ]
     },
     "execution_count": 20,
     "metadata": {},
     "output_type": "execute_result"
    }
   ],
   "source": [
    "select date,trips,precip from jan09W"
   ]
  },
  {
   "cell_type": "markdown",
   "metadata": {
    "reveal": "2pw2loktdkw",
    "reveal-hidden": false,
    "tags": []
   },
   "source": [
    "##### Exercise 10\n",
    "- Create a new join which joins the number of trips with the average temperature from the weather data, per day for the month of January"
   ]
  },
  {
   "cell_type": "code",
   "execution_count": 21,
   "metadata": {
    "reveal": "2pw2loktdkw"
   },
   "outputs": [
    {
     "data": {
      "text/plain": [
       "date      | trips  avgtemp\n",
       "----------| --------------\n",
       "2009.01.01| 327625 20.5   \n",
       "2009.01.02| 376708 28.5   \n",
       "2009.01.03| 432710 33.5   \n",
       "2009.01.04| 367525 33.5   \n",
       "2009.01.05| 370901 40.5   \n",
       "2009.01.06| 427394 34.5   \n",
       "2009.01.07| 371043 34.5   \n",
       "2009.01.08| 477502 33.5   \n",
       "2009.01.09| 520846 29     \n",
       "2009.01.10| 483350 26.5   \n",
       "2009.01.11| 405075 27.5   \n",
       "2009.01.12| 414642 27     \n",
       "2009.01.13| 442543 34.5   \n",
       "2009.01.14| 489177 26     \n",
       "2009.01.15| 486450 18.5   \n",
       "2009.01.16| 535200 12.5   \n",
       "2009.01.17| 511023 14     \n",
       "2009.01.18| 419962 28.5   \n",
       "2009.01.19| 352534 29.5   \n",
       "2009.01.20| 433639 24     \n",
       "..\n"
      ]
     },
     "execution_count": 21,
     "metadata": {},
     "output_type": "execute_result"
    }
   ],
   "source": [
    "jan09C lj `date xkey select date, avgtemp from weather "
   ]
  },
  {
   "cell_type": "code",
   "execution_count": null,
   "metadata": {},
   "outputs": [],
   "source": [
    "//Enter your code here "
   ]
  },
  {
   "cell_type": "code",
   "execution_count": 22,
   "metadata": {},
   "outputs": [
    {
     "data": {
      "text/plain": [
       "date      | trips  avgtemp\n",
       "----------| --------------\n",
       "2009.01.01| 327625 20.5   \n",
       "2009.01.02| 376708 28.5   \n",
       "2009.01.03| 432710 33.5   \n",
       "2009.01.04| 367525 33.5   \n",
       "2009.01.05| 370901 40.5   \n",
       "2009.01.06| 427394 34.5   \n",
       "2009.01.07| 371043 34.5   \n",
       "2009.01.08| 477502 33.5   \n",
       "2009.01.09| 520846 29     \n",
       "2009.01.10| 483350 26.5   \n",
       "2009.01.11| 405075 27.5   \n",
       "2009.01.12| 414642 27     \n",
       "2009.01.13| 442543 34.5   \n",
       "2009.01.14| 489177 26     \n",
       "2009.01.15| 486450 18.5   \n",
       "2009.01.16| 535200 12.5   \n",
       "2009.01.17| 511023 14     \n",
       "2009.01.18| 419962 28.5   \n",
       "2009.01.19| 352534 29.5   \n",
       "2009.01.20| 433639 24     \n",
       "..\n"
      ]
     },
     "execution_count": 22,
     "metadata": {},
     "output_type": "execute_result"
    }
   ],
   "source": [
    "ex10[] //check correct output"
   ]
  },
  {
   "cell_type": "markdown",
   "metadata": {},
   "source": [
    "## As-of Join\n",
    "\n",
    "`aj[matching columns;t1;t2]` - [aj join](https://code.kx.com/q/ref/aj/)\n",
    "\n",
    "qSQL also supports time-series joins, a powerful feature not typically found in other databases and languages.\n",
    "\n",
    "Given the data we have, we could ask what were the latest pick-ups for each vendor, as of a particular time.\n",
    "\n",
    "We will create a temporary time table with a minimum date time for each vendor:"
   ]
  },
  {
   "cell_type": "markdown",
   "metadata": {},
   "source": [
    "Let's say there are three reports of individuals who have lost their phone or wallet who were picked up shortly before the time who said how many passengers were in the taxi. Which vendor were they riding with?"
   ]
  },
  {
   "cell_type": "code",
   "execution_count": 23,
   "metadata": {},
   "outputs": [
    {
     "data": {
      "text/plain": [
       "passengers event_time                   \n",
       "----------------------------------------\n",
       "1          2009.01.06D03:30:00.000000000\n",
       "2          2009.01.06D04:00:00.000000000\n",
       "3          2009.01.06D04:30:00.000000000\n"
      ]
     },
     "execution_count": 23,
     "metadata": {},
     "output_type": "execute_result"
    }
   ],
   "source": [
    "timetab:([] passengers:1 2 3; event_time:2009.01.06D03:30:00+00:30*til 3)\n",
    "timetab"
   ]
  },
  {
   "cell_type": "markdown",
   "metadata": {},
   "source": [
    "Using `aj`, we can look up the table `jan09` to find out what was the last trip taken at each of the times above with those passengers:"
   ]
  },
  {
   "cell_type": "code",
   "execution_count": 24,
   "metadata": {},
   "outputs": [
    {
     "data": {
      "text/plain": [
       "passengers event_time                    vendor pickup_time                  \n",
       "-----------------------------------------------------------------------------\n",
       "1          2009.01.06D03:30:00.000000000 VTS    2009.01.06D03:30:00.000000000\n",
       "2          2009.01.06D04:00:00.000000000 VTS    2009.01.06D04:00:00.000000000\n",
       "3          2009.01.06D04:30:00.000000000 CMT    2009.01.06D04:29:22.000000000\n"
      ]
     },
     "execution_count": 24,
     "metadata": {},
     "output_type": "execute_result"
    }
   ],
   "source": [
    "aj[`passengers`event_time;timetab;select passengers, event_time:pickup_time, vendor, pickup_time from jan09]"
   ]
  },
  {
   "cell_type": "markdown",
   "metadata": {},
   "source": [
    "The result is the record for each vendor with the event_time ≤ to the time we specified.\n",
    "- An `aj` join will always select the last record before the specified time."
   ]
  },
  {
   "cell_type": "code",
   "execution_count": 25,
   "metadata": {},
   "outputs": [
    {
     "data": {
      "text/plain": [
       "passengers event_time                   \n",
       "----------------------------------------\n",
       "1          2009.01.06D03:30:00.000000000\n",
       "2          2009.01.06D04:00:00.000000000\n",
       "3          2009.01.06D04:30:00.000000000\n",
       "4          2009.01.06D05:00:00.000000000\n",
       "5          2009.01.06D05:30:00.000000000\n",
       "6          2009.01.06D06:00:00.000000000\n"
      ]
     },
     "execution_count": 25,
     "metadata": {},
     "output_type": "execute_result"
    }
   ],
   "source": [
    "timetab:([] passengers:1 2 3 4 5 6; event_time:2009.01.06D03:30:00+00:30*til 6)\n",
    "timetab"
   ]
  },
  {
   "cell_type": "markdown",
   "metadata": {},
   "source": [
    "We have created a new timetab table. What will the output as-of join be now?"
   ]
  },
  {
   "cell_type": "code",
   "execution_count": 26,
   "metadata": {},
   "outputs": [
    {
     "data": {
      "text/plain": [
       "passengers event_time                    vendor pickup_time                  \n",
       "-----------------------------------------------------------------------------\n",
       "1          2009.01.06D03:30:00.000000000 VTS    2009.01.06D03:30:00.000000000\n",
       "2          2009.01.06D04:00:00.000000000 VTS    2009.01.06D04:00:00.000000000\n",
       "3          2009.01.06D04:30:00.000000000 CMT    2009.01.06D04:29:22.000000000\n",
       "4          2009.01.06D05:00:00.000000000 CMT    2009.01.06D04:59:54.000000000\n",
       "5          2009.01.06D05:30:00.000000000 VTS    2009.01.06D05:30:00.000000000\n",
       "6          2009.01.06D06:00:00.000000000 VTS    2009.01.06D05:59:00.000000000\n"
      ]
     },
     "execution_count": 26,
     "metadata": {},
     "output_type": "execute_result"
    }
   ],
   "source": [
    "aj[`passengers`event_time;timetab;select passengers, event_time:pickup_time, vendor, pickup_time from jan09]"
   ]
  },
  {
   "cell_type": "markdown",
   "metadata": {
    "reveal": "lc1l58pv81d",
    "reveal-hidden": false,
    "tags": []
   },
   "source": [
    "##### Exercise 11\n",
    "\n",
    "Find the latest trips as of 09:30 on the 31st of January for each vendor."
   ]
  },
  {
   "cell_type": "code",
   "execution_count": 27,
   "metadata": {
    "reveal": "lc1l58pv81d"
   },
   "outputs": [
    {
     "data": {
      "text/plain": [
       "vendor pickup_time                   date       month   dropoff_time         ..\n",
       "-----------------------------------------------------------------------------..\n",
       "VTS    2009.01.31D09:30:00.000000000 2009.01.31 2009.01 2009.01.31D09:41:00.0..\n",
       "DDS    2009.01.31D09:30:00.000000000 2009.01.31 2009.01 2009.01.31D09:35:17.0..\n",
       "CMT    2009.01.31D09:30:00.000000000 2009.01.31 2009.01 2009.01.31D09:38:56.0..\n"
      ]
     },
     "execution_count": 27,
     "metadata": {},
     "output_type": "execute_result"
    }
   ],
   "source": [
    "timetab:([] vendor: `VTS`DDS`CMT; pickup_time:3#2009.01.31D09:30:00)\n",
    "aj[`vendor`pickup_time;timetab;jan09]"
   ]
  },
  {
   "cell_type": "code",
   "execution_count": null,
   "metadata": {},
   "outputs": [],
   "source": [
    "//Enter your code here"
   ]
  },
  {
   "cell_type": "code",
   "execution_count": 28,
   "metadata": {},
   "outputs": [
    {
     "data": {
      "text/plain": [
       "vendor pickup_time                   date       month   dropoff_time         ..\n",
       "-----------------------------------------------------------------------------..\n",
       "VTS    2009.01.31D09:30:00.000000000 2009.01.31 2009.01 2009.01.31D09:41:00.0..\n",
       "DDS    2009.01.31D09:30:00.000000000 2009.01.31 2009.01 2009.01.31D09:35:17.0..\n",
       "CMT    2009.01.31D09:30:00.000000000 2009.01.31 2009.01 2009.01.31D09:38:56.0..\n"
      ]
     },
     "execution_count": 28,
     "metadata": {},
     "output_type": "execute_result"
    }
   ],
   "source": [
    "ex11[] //check correct output"
   ]
  },
  {
   "cell_type": "code",
   "execution_count": null,
   "metadata": {},
   "outputs": [],
   "source": []
  }
 ],
 "metadata": {
  "kernelspec": {
   "display_name": "Q (kdb+)",
   "language": "q",
   "name": "qpk"
  },
  "language_info": {
   "file_extension": ".q",
   "mimetype": "text/x-q",
   "name": "q",
   "version": "4.1.0"
  },
  "toc": {
   "base_numbering": 1,
   "nav_menu": {},
   "number_sections": true,
   "sideBar": true,
   "skip_h1_title": false,
   "title_cell": "Table of Contents",
   "title_sidebar": "Contents",
   "toc_cell": false,
   "toc_position": {},
   "toc_section_display": true,
   "toc_window_display": false
  }
 },
 "nbformat": 4,
 "nbformat_minor": 4
}
