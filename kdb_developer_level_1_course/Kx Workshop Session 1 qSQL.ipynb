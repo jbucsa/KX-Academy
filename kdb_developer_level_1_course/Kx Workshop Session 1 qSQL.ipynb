{
 "cells": [
  {
   "cell_type": "markdown",
   "metadata": {},
   "source": [
    "**Jupyter notebook**: Place your cursor in each In field and press Shift-Enter to execute it.\n"
   ]
  },
  {
   "cell_type": "code",
   "execution_count": 1,
   "metadata": {},
   "outputs": [
    {
     "name": "stdout",
     "output_type": "stream",
     "text": [
      "\"Initializing variables\"\n",
      "\"Loaded Weather CSV\"\n",
      "\"Loaded Taxi Trips partitioned DB\"\n",
      "\"Defining exercise results\"\n",
      "\"Ready\"\n"
     ]
    }
   ],
   "source": [
    "system\"cd \",getenv[`HOME],\"/course-introductory-workshop\"\n",
    ".trn.nbdir:system\"cd\"\n",
    "\\l scripts/loaddata.q"
   ]
  },
  {
   "cell_type": "markdown",
   "metadata": {},
   "source": [
    "**Learning objectives** \n",
    "\n",
    "To understand:\n",
    "* How to construct a qSQL query\n",
    "* How to assign a variable\n",
    "* Useful inbuilt aggregations \n",
    "* Grouping with by\n",
    "* Using `fby` to avoid nested queries\n",
    "* Updating existing data \n",
    "* Temporal arithmetic "
   ]
  },
  {
   "cell_type": "markdown",
   "metadata": {},
   "source": [
    "# Data overview\n",
    "\n",
    "The taxi database details cab fares in New York City. The data was provided from the\n",
    "[NYC Taxi & Limousine Commission](https://www1.nyc.gov/site/tlc/about/tlc-trip-record-data.page).\n",
    "\n",
    "The database we have loaded contains trip data starting at January 1st, 2009 until March 31st, 2009. The\n",
    "database contains 6.9 million records and occupies 6Gb on disk with no compression. \n",
    "\n",
    "The taxi database is stored in a table called `trips`. To supplement the data, there is an additional New York City weather dataset called `weather`. This data was collected by the  [National Oceanic and Atmospheric Administration](https://www.noaa.gov) and distributed by the \n",
    "[National Climate and Data Center](https://www.ncdc.noaa.gov). The weather dataset contains daily\n",
    "summaries for January 2009 from 187 distinct weather stations surrounding New York City."
   ]
  },
  {
   "cell_type": "markdown",
   "metadata": {},
   "source": [
    "# Data exploration"
   ]
  },
  {
   "cell_type": "markdown",
   "metadata": {},
   "source": [
    "Tables form the core of Kx technology. Here we will go through how to access tables and examine their contents.\n",
    "\n",
    "See what tables are currently in the database:"
   ]
  },
  {
   "cell_type": "code",
   "execution_count": 2,
   "metadata": {},
   "outputs": [
    {
     "data": {
      "text/plain": [
       "`smalltrips`trips`weather\n"
      ]
     },
     "execution_count": 2,
     "metadata": {},
     "output_type": "execute_result"
    }
   ],
   "source": [
    "tables[]"
   ]
  },
  {
   "cell_type": "markdown",
   "metadata": {},
   "source": [
    "Inspect a table by typing its name."
   ]
  },
  {
   "cell_type": "code",
   "execution_count": 3,
   "metadata": {},
   "outputs": [
    {
     "data": {
      "text/plain": [
       "date       month   vendor pickup_time                   dropoff_time         ..\n",
       "-----------------------------------------------------------------------------..\n",
       "2009.01.01 2009.01 CMT    2009.01.01D00:00:00.000000000 2009.01.01D00:04:12.0..\n",
       "2009.01.01 2009.01 CMT    2009.01.01D00:00:00.000000000 2009.01.01D00:05:03.0..\n",
       "2009.01.01 2009.01 CMT    2009.01.01D00:00:02.000000000 2009.01.01D00:05:40.0..\n",
       "2009.01.01 2009.01 CMT    2009.01.01D00:00:04.000000000 2009.01.01D00:03:08.0..\n",
       "2009.01.01 2009.01 CMT    2009.01.01D00:00:07.000000000 2009.01.01D00:19:01.0..\n",
       "2009.01.01 2009.01 CMT    2009.01.01D00:00:09.000000000 2009.01.01D00:05:43.0..\n",
       "2009.01.01 2009.01 CMT    2009.01.01D00:00:10.000000000 2009.01.01D00:05:50.0..\n",
       "2009.01.01 2009.01 CMT    2009.01.01D00:00:13.000000000 2009.01.01D00:15:27.0..\n",
       "2009.01.01 2009.01 DDS    2009.01.01D00:00:15.000000000 2009.01.01D00:01:29.0..\n",
       "2009.01.01 2009.01 CMT    2009.01.01D00:00:16.000000000 2009.01.01D00:12:02.0..\n",
       "2009.01.01 2009.01 CMT    2009.01.01D00:00:17.000000000 2009.01.01D00:22:02.0..\n",
       "2009.01.01 2009.01 CMT    2009.01.01D00:00:21.000000000 2009.01.01D00:18:29.0..\n",
       "2009.01.01 2009.01 CMT    2009.01.01D00:00:23.000000000 2009.01.01D00:15:25.0..\n",
       "2009.01.01 2009.01 CMT    2009.01.01D00:00:25.000000000 2009.01.01D00:13:41.0..\n",
       "2009.01.01 2009.01 CMT    2009.01.01D00:00:27.000000000 2009.01.01D00:27:44.0..\n",
       "2009.01.01 2009.01 CMT    2009.01.01D00:00:27.000000000 2009.01.01D00:09:31.0..\n",
       "2009.01.01 2009.01 CMT    2009.01.01D00:00:27.000000000 2009.01.01D00:04:55.0..\n",
       "2009.01.01 2009.01 CMT    2009.01.01D00:00:28.000000000 2009.01.01D00:11:10.0..\n",
       "2009.01.01 2009.01 CMT    2009.01.01D00:00:29.000000000 2009.01.01D00:19:07.0..\n",
       "2009.01.01 2009.01 DDS    2009.01.01D00:00:29.000000000 2009.01.01D00:27:08.0..\n",
       "..\n"
      ]
     },
     "execution_count": 3,
     "metadata": {},
     "output_type": "execute_result"
    }
   ],
   "source": [
    "smalltrips"
   ]
  },
  {
   "cell_type": "markdown",
   "metadata": {},
   "source": [
    "It is very easy to interrogate the kdb+/q process to get information from the process about the size and shape of the tables.\n",
    "\n",
    "We can see how many records are in the table, by using [`count`](https://code.kx.com/q/ref/count).\n",
    "\n",
    "We can also inspect the schema of `trips` with [`meta`](https://code.kx.com/q/ref/meta), obtaining a table of available columns and their types and other information. The following columns are produced:\n",
    "\n",
    "- `c`: column name\n",
    "- `t`: column [type](https://code.kx.com/q/ref/#datatypes)\n",
    "- `f`: [foreign keys](https://code.kx.com/q/wp/foreign-keys/)\n",
    "- `a`: [attributes](https://code.kx.com/q/basics/syntax/#attributes): modifiers applied for performance characteristics"
   ]
  },
  {
   "cell_type": "code",
   "execution_count": 4,
   "metadata": {},
   "outputs": [
    {
     "data": {
      "text/plain": [
       "31\n"
      ]
     },
     "execution_count": 4,
     "metadata": {},
     "output_type": "execute_result"
    },
    {
     "data": {
      "text/plain": [
       "`date`maxtemp`mintemp`avgtemp`departuretemp`hdd`cdd`precip`newsnow`snowdepth\n"
      ]
     },
     "execution_count": 4,
     "metadata": {},
     "output_type": "execute_result"
    },
    {
     "data": {
      "text/plain": [
       "c            | t f a\n",
       "-------------| -----\n",
       "date         | d    \n",
       "maxtemp      | f    \n",
       "mintemp      | f    \n",
       "avgtemp      | f    \n",
       "departuretemp| f    \n",
       "hdd          | f    \n",
       "cdd          | f    \n",
       "precip       | f    \n",
       "newsnow      | f    \n",
       "snowdepth    | f    \n"
      ]
     },
     "execution_count": 4,
     "metadata": {},
     "output_type": "execute_result"
    }
   ],
   "source": [
    "count weather\n",
    "cols weather\n",
    "meta weather"
   ]
  },
  {
   "cell_type": "markdown",
   "metadata": {},
   "source": [
    "# qSQL\n",
    "\n",
    "If you have used SQL, you will find the syntax of qSQL queries very similar."
   ]
  },
  {
   "cell_type": "markdown",
   "metadata": {},
   "source": [
    " <img src=\"images/qbies.png\" width=\"50px\" align=\"left\"/><p style='color:#273a6e'><i> Here qSQL is like SQL but does not require a <code>*</code> to select all columns. </i></p> "
   ]
  },
  {
   "cell_type": "code",
   "execution_count": 19,
   "metadata": {},
   "outputs": [
    {
     "data": {
      "text/plain": [
       "date       maxtemp mintemp avgtemp departuretemp hdd cdd precip newsnow snowd..\n",
       "-----------------------------------------------------------------------------..\n",
       "2009.01.01 26      15      20.5    -12.9         44  0   0      0       0    ..\n",
       "2009.01.02 34      23      28.5    -4.8          36  0                  0    ..\n",
       "2009.01.03 38      29      33.5    0.4           31  0                  0    ..\n",
       "2009.01.04 42      25      33.5    0.5           31  0   0      0       0    ..\n",
       "2009.01.05 43      38      40.5    7.6           24  0          0       0    ..\n",
       "2009.01.06 38      31      34.5    1.7           30  0   0.08           0    ..\n",
       "2009.01.07 38      31      34.5    1.8           30  0   1.19   0       0    ..\n",
       "2009.01.08 38      29      33.5    0.9           31  0   0      0       0    ..\n",
       "2009.01.09 32      26      29      -3.5          36  0   0      0       0    ..\n",
       "2009.01.10 30      23      26.5    -5.9          38  0   0.14   1       0    ..\n",
       "2009.01.11 31      24      27.5    -4.9          37  0   0.19           1    ..\n",
       "2009.01.12 33      21      27      -5.3          38  0   0      0       1    ..\n",
       "2009.01.13 41      28      34.5    2.2           30  0   0      0       0    ..\n",
       "2009.01.14 36      16      26      -6.3          39  0   0      0       0    ..\n",
       "2009.01.15 22      15      18.5    -13.8         46  0   0.05   1       1    ..\n",
       "2009.01.16 16      9       12.5    -19.7         52  0   0      0       0    ..\n",
       "2009.01.17 22      6       14      -18.2         51  0   0      0       0    ..\n",
       "2009.01.18 35      22      28.5    -3.8          36  0   0.18   2.2          ..\n",
       "2009.01.19 33      26      29.5    -2.8          35  0   0.18   1.8     3    ..\n",
       "2009.01.20 29      19      24      -8.3          41  0   0      0       4    ..\n",
       "..\n"
      ]
     },
     "execution_count": 19,
     "metadata": {},
     "output_type": "execute_result"
    }
   ],
   "source": [
    "select from weather"
   ]
  },
  {
   "cell_type": "markdown",
   "metadata": {},
   "source": [
    "Get the `vendor`, `pickup_time` and `fare` columns from the entire table."
   ]
  },
  {
   "cell_type": "code",
   "execution_count": 20,
   "metadata": {},
   "outputs": [
    {
     "data": {
      "text/plain": [
       "vendor pickup_time                   fare\n",
       "-----------------------------------------\n",
       "CMT    2009.01.01D00:00:00.000000000 5.8 \n",
       "CMT    2009.01.01D00:00:00.000000000 5.4 \n",
       "CMT    2009.01.01D00:00:02.000000000 5.8 \n",
       "CMT    2009.01.01D00:00:04.000000000 4.6 \n",
       "CMT    2009.01.01D00:00:07.000000000 27.8\n",
       "CMT    2009.01.01D00:00:09.000000000 5.8 \n",
       "CMT    2009.01.01D00:00:10.000000000 5.8 \n",
       "CMT    2009.01.01D00:00:13.000000000 10.6\n",
       "DDS    2009.01.01D00:00:15.000000000 2.9 \n",
       "CMT    2009.01.01D00:00:16.000000000 11.8\n",
       "CMT    2009.01.01D00:00:17.000000000 20.2\n",
       "CMT    2009.01.01D00:00:21.000000000 23.4\n",
       "CMT    2009.01.01D00:00:23.000000000 12.2\n",
       "CMT    2009.01.01D00:00:25.000000000 17.8\n",
       "CMT    2009.01.01D00:00:27.000000000 30.2\n",
       "CMT    2009.01.01D00:00:27.000000000 7.4 \n",
       "CMT    2009.01.01D00:00:27.000000000 5.8 \n",
       "CMT    2009.01.01D00:00:28.000000000 9   \n",
       "CMT    2009.01.01D00:00:29.000000000 14.6\n",
       "DDS    2009.01.01D00:00:29.000000000 17.3\n",
       "..\n"
      ]
     },
     "execution_count": 20,
     "metadata": {},
     "output_type": "execute_result"
    }
   ],
   "source": [
    "select vendor, pickup_time, fare from smalltrips"
   ]
  },
  {
   "cell_type": "markdown",
   "metadata": {},
   "source": [
    "The next query extracts a few columns, but also filters on two criteria. Just as in SQL, table results can be filtered by expressions following a `where`. Multiple filter criteria, separated by `,`, are evaluated starting from the left.\n",
    "\n",
    "Get taxi trips from the first day of data where the tip is greater than 20."
   ]
  },
  {
   "cell_type": "markdown",
   "metadata": {},
   "source": [
    " <img src=\"images/qbies.png\" width=\"50px\" align=\"left\"/><p style='color:#273a6e'><i> The first day of data is found by applying aggregation <code>min</code> to the <code>date</code> column, and selecting dates equal to it. <br><br> Q has many aggregations. We shall encounter more later. </i></p> "
   ]
  },
  {
   "cell_type": "code",
   "execution_count": 21,
   "metadata": {},
   "outputs": [
    {
     "data": {
      "text/plain": [
       "date       month   vendor passengers fare tip  \n",
       "-----------------------------------------------\n",
       "2009.01.01 2009.01 CMT    1          47   95.45\n",
       "2009.01.01 2009.01 CMT    1          45   60   \n",
       "2009.01.01 2009.01 CMT    1          45   58.88\n",
       "2009.01.01 2009.01 CMT    1          45   57   \n",
       "2009.01.01 2009.01 VTS    2          5.3  98.23\n",
       "2009.01.01 2009.01 DDS    1          2.5  58   \n",
       "2009.01.01 2009.01 VTS    1          2.5  67   \n",
       "2009.01.01 2009.01 DDS    1          45   90   \n"
      ]
     },
     "execution_count": 21,
     "metadata": {},
     "output_type": "execute_result"
    }
   ],
   "source": [
    "select date, month, vendor, passengers, fare, tip from trips \n",
    "    where date = min date, tip > 50   "
   ]
  },
  {
   "cell_type": "markdown",
   "metadata": {},
   "source": [
    "**Structure of kdb+ database**"
   ]
  },
  {
   "cell_type": "markdown",
   "metadata": {},
   "source": [
    "<img src=\"images/DbStructure.png\" width=\"600\" height=\"400\">"
   ]
  },
  {
   "cell_type": "markdown",
   "metadata": {
    "reveal": "roc8nab44c",
    "reveal-hidden": false,
    "tags": []
   },
   "source": [
    "Which query runs faster?\n",
    "\n",
    "\\ts select date, month, vendor, passengers, fare, tip from trips where date = min date, tip > 20\n",
    "\\ts select date, month, vendor, passengers, fare, tip from trips where tip > 20, date = min date"
   ]
  },
  {
   "cell_type": "markdown",
   "metadata": {
    "reveal": "roc8nab44c"
   },
   "source": [
    "(1) runs faster. The `trips` table is a partitioned on the `date` column, which is the first filter in the [Where phrase](https://code.kx.com/q/basics/qsql/#where-phrase). Filtering on the partition column value first minimizes the number of directories to read.\n",
    "\n",
    "We can test this theory with the [`\\ts`](https://code.kx.com/q/basics/syscmds/#ts-time-and-space) system command."
   ]
  },
  {
   "cell_type": "code",
   "execution_count": 22,
   "metadata": {
    "reveal": "roc8nab44c"
   },
   "outputs": [
    {
     "data": {
      "text/plain": [
       "42 794016\n"
      ]
     },
     "execution_count": 22,
     "metadata": {},
     "output_type": "execute_result"
    },
    {
     "data": {
      "text/plain": [
       "4053 1725040\n"
      ]
     },
     "execution_count": 22,
     "metadata": {},
     "output_type": "execute_result"
    }
   ],
   "source": [
    "\\ts select date, month, vendor, passengers, fare, tip from trips where date = min date, tip > 20\n",
    "\\ts select date, month, vendor, passengers, fare, tip from trips where tip > 20, date = min date"
   ]
  },
  {
   "cell_type": "markdown",
   "metadata": {},
   "source": [
    "Include calculated columns in the result by assignment in the form `column_name : value`."
   ]
  },
  {
   "cell_type": "code",
   "execution_count": 20,
   "metadata": {},
   "outputs": [
    {
     "data": {
      "text/plain": [
       "date       month   vendor passengers fare tip  \n",
       "-----------------------------------------------\n",
       "2009.01.01 2009.01 DDS    1          33.3 33.8 \n",
       "2009.01.01 2009.01 CMT    2          77.4 30   \n",
       "2009.01.01 2009.01 CMT    1          47   95.45\n",
       "2009.01.01 2009.01 CMT    1          112  23.6 \n",
       "2009.01.01 2009.01 CMT    1          41.4 40   \n",
       "2009.01.01 2009.01 CMT    2          26.2 36.23\n",
       "2009.01.01 2009.01 CMT    3          27.4 20.8 \n",
       "2009.01.01 2009.01 CMT    3          135  25   \n",
       "2009.01.01 2009.01 DDS    4          127  23   \n",
       "2009.01.01 2009.01 CMT    1          11   24.24\n",
       "2009.01.01 2009.01 CMT    4          27.8 24.24\n",
       "2009.01.01 2009.01 CMT    1          120  24   \n",
       "2009.01.01 2009.01 CMT    4          10.6 28.84\n",
       "2009.01.01 2009.01 CMT    1          9    22   \n",
       "2009.01.01 2009.01 CMT    2          15.4 30   \n",
       "2009.01.01 2009.01 CMT    1          24.2 30   \n",
       "2009.01.01 2009.01 CMT    1          13   20.2 \n",
       "2009.01.01 2009.01 CMT    1          45   60   \n",
       "2009.01.01 2009.01 DDS    1          136  27.2 \n",
       "2009.01.01 2009.01 CMT    1          26.6 31.63\n",
       "..\n"
      ]
     },
     "execution_count": 20,
     "metadata": {},
     "output_type": "execute_result"
    },
    {
     "data": {
      "text/plain": [
       "date       month   vendor passengers fare tip  \n",
       "-----------------------------------------------\n",
       "2009.01.01 2009.01 DDS    1          33.3 33.8 \n",
       "2009.01.01 2009.01 CMT    2          77.4 30   \n",
       "2009.01.01 2009.01 CMT    1          47   95.45\n",
       "2009.01.01 2009.01 CMT    1          112  23.6 \n",
       "2009.01.01 2009.01 CMT    1          41.4 40   \n",
       "2009.01.01 2009.01 CMT    2          26.2 36.23\n",
       "2009.01.01 2009.01 CMT    3          27.4 20.8 \n",
       "2009.01.01 2009.01 CMT    3          135  25   \n",
       "2009.01.01 2009.01 DDS    4          127  23   \n",
       "2009.01.01 2009.01 CMT    1          11   24.24\n",
       "2009.01.01 2009.01 CMT    4          27.8 24.24\n",
       "2009.01.01 2009.01 CMT    1          120  24   \n",
       "2009.01.01 2009.01 CMT    4          10.6 28.84\n",
       "2009.01.01 2009.01 CMT    1          9    22   \n",
       "2009.01.01 2009.01 CMT    2          15.4 30   \n",
       "2009.01.01 2009.01 CMT    1          24.2 30   \n",
       "2009.01.01 2009.01 CMT    1          13   20.2 \n",
       "2009.01.01 2009.01 CMT    1          45   60   \n",
       "2009.01.01 2009.01 DDS    1          136  27.2 \n",
       "2009.01.01 2009.01 CMT    1          26.6 31.63\n",
       "..\n"
      ]
     },
     "execution_count": 20,
     "metadata": {},
     "output_type": "execute_result"
    }
   ],
   "source": [
    "select date, month, vendor, passengers, fare, tip from trips where date = min date, tip > 20\n",
    "select date, month, vendor, passengers, fare, tip from trips where tip > 20, date = min date"
   ]
  },
  {
   "cell_type": "markdown",
   "metadata": {},
   "source": [
    "A virtual column `i` maps to a record index in the table. A simple aggregation can be obtained by taking the count of this virtual column."
   ]
  },
  {
   "cell_type": "code",
   "execution_count": 24,
   "metadata": {},
   "outputs": [
    {
     "data": {
      "text/plain": [
       "x    \n",
       "-----\n",
       "17029\n"
      ]
     },
     "execution_count": 24,
     "metadata": {},
     "output_type": "execute_result"
    }
   ],
   "source": [
    "select count i from trips where date = min date, passengers = 4"
   ]
  },
  {
   "cell_type": "markdown",
   "metadata": {},
   "source": [
    "Further reading:\n",
    "-   [qSQL syntax](https://code.kx.com/q/basics/qsql/)\n",
    "-   [*Q for Mortals* §9: Queries](https://code.kx.com/q4m3/9_Queries_q-sql/)"
   ]
  },
  {
   "cell_type": "markdown",
   "metadata": {},
   "source": [
    "##### Exercise 1"
   ]
  },
  {
   "cell_type": "markdown",
   "metadata": {
    "reveal": "b4zgn5iw5oa",
    "reveal-hidden": false,
    "tags": []
   },
   "source": [
    "- On the earliest date, how many trips had fewer than two passengers?"
   ]
  },
  {
   "cell_type": "code",
   "execution_count": 5,
   "metadata": {
    "reveal": "b4zgn5iw5oa"
   },
   "outputs": [
    {
     "data": {
      "text/plain": [
       "x     \n",
       "------\n",
       "183492\n"
      ]
     },
     "execution_count": 5,
     "metadata": {},
     "output_type": "execute_result"
    }
   ],
   "source": [
    "select count i from trips where date = min date, passengers < 2\n",
    "//alternative way- select count i from trips where date = first date, passengers < 2"
   ]
  },
  {
   "cell_type": "markdown",
   "metadata": {
    "reveal": "uq0cccdzbgf",
    "reveal-hidden": false,
    "tags": []
   },
   "source": [
    "- What about the last date?"
   ]
  },
  {
   "cell_type": "code",
   "execution_count": 21,
   "metadata": {
    "reveal": "uq0cccdzbgf"
   },
   "outputs": [
    {
     "data": {
      "text/plain": [
       "x     \n",
       "------\n",
       "332941\n"
      ]
     },
     "execution_count": 21,
     "metadata": {},
     "output_type": "execute_result"
    }
   ],
   "source": [
    "select count i from trips where date = max date, passengers < 2\n",
    "//alternative way- select count i from trips where date = last date, passengers < 2"
   ]
  },
  {
   "cell_type": "code",
   "execution_count": 6,
   "metadata": {},
   "outputs": [
    {
     "data": {
      "text/plain": [
       "payment_type fare\n",
       "-----------------\n",
       "CASH         5.8 \n",
       "CASH         5.4 \n",
       "CASH         5.8 \n",
       "CASH         4.6 \n",
       "CASH         27.8\n",
       "CASH         5.8 \n",
       "CASH         5.8 \n",
       "CASH         10.6\n",
       "CASH         2.9 \n",
       "CASH         11.8\n",
       "CASH         20.2\n",
       "CASH         23.4\n",
       "CASH         12.2\n",
       "CASH         17.8\n",
       "CASH         30.2\n",
       "CASH         7.4 \n",
       "CASH         5.8 \n",
       "CASH         9   \n",
       "No Charge    14.6\n",
       "CASH         17.3\n",
       "..\n"
      ]
     },
     "execution_count": 6,
     "metadata": {},
     "output_type": "execute_result"
    }
   ],
   "source": [
    "select payment_type, fare from trips where date = min date\n"
   ]
  },
  {
   "cell_type": "code",
   "execution_count": 7,
   "metadata": {},
   "outputs": [
    {
     "data": {
      "text/plain": [
       "x     \n",
       "------\n",
       "332941\n"
      ]
     },
     "execution_count": 7,
     "metadata": {},
     "output_type": "execute_result"
    }
   ],
   "source": [
    "ex1_b[] //check correct output"
   ]
  },
  {
   "cell_type": "markdown",
   "metadata": {
    "reveal": "23aar4epvtv",
    "reveal-hidden": false,
    "tags": []
   },
   "source": [
    "##### Exercise 2\n",
    "- Select `payment_type` and `fare` from the trips data for the first date.\n"
   ]
  },
  {
   "cell_type": "code",
   "execution_count": 8,
   "metadata": {
    "reveal": "23aar4epvtv"
   },
   "outputs": [
    {
     "data": {
      "text/plain": [
       "payment_type fare\n",
       "-----------------\n",
       "CASH         5.8 \n",
       "CASH         5.4 \n",
       "CASH         5.8 \n",
       "CASH         4.6 \n",
       "CASH         27.8\n",
       "CASH         5.8 \n",
       "CASH         5.8 \n",
       "CASH         10.6\n",
       "CASH         2.9 \n",
       "CASH         11.8\n",
       "CASH         20.2\n",
       "CASH         23.4\n",
       "CASH         12.2\n",
       "CASH         17.8\n",
       "CASH         30.2\n",
       "CASH         7.4 \n",
       "CASH         5.8 \n",
       "CASH         9   \n",
       "No Charge    14.6\n",
       "CASH         17.3\n",
       "..\n"
      ]
     },
     "execution_count": 8,
     "metadata": {},
     "output_type": "execute_result"
    }
   ],
   "source": [
    "select payment_type, fare from trips where date = min date"
   ]
  },
  {
   "cell_type": "code",
   "execution_count": null,
   "metadata": {},
   "outputs": [],
   "source": [
    "// Enter your qSQL code here "
   ]
  },
  {
   "cell_type": "code",
   "execution_count": 10,
   "metadata": {},
   "outputs": [
    {
     "data": {
      "text/plain": [
       "payment_type fare\n",
       "-----------------\n",
       "CASH         5.8 \n",
       "CASH         5.4 \n",
       "CASH         5.8 \n",
       "CASH         4.6 \n",
       "CASH         27.8\n",
       "CASH         5.8 \n",
       "CASH         5.8 \n",
       "CASH         10.6\n",
       "CASH         2.9 \n",
       "CASH         11.8\n",
       "CASH         20.2\n",
       "CASH         23.4\n",
       "CASH         12.2\n",
       "CASH         17.8\n",
       "CASH         30.2\n",
       "CASH         7.4 \n",
       "CASH         5.8 \n",
       "CASH         9   \n",
       "No Charge    14.6\n",
       "CASH         17.3\n",
       "..\n"
      ]
     },
     "execution_count": 10,
     "metadata": {},
     "output_type": "execute_result"
    }
   ],
   "source": [
    "ex2[] //check correct output"
   ]
  },
  {
   "cell_type": "markdown",
   "metadata": {},
   "source": [
    "## Assignment\n",
    "\n",
    "When exploring data, storing intermediate results is useful for avoiding repeated work."
   ]
  },
  {
   "cell_type": "markdown",
   "metadata": {},
   "source": [
    " <img src=\"images/qbies.png\" width=\"50px\" align=\"left\"/><p style='color:#273a6e'><i> In q, assignment is denoted by <code>:</code>.<br><br>The equal sign <code>=</code> retains its traditional meaning of testing for equality. </i></p>"
   ]
  },
  {
   "cell_type": "markdown",
   "metadata": {},
   "source": [
    "Create a new variable as follows:\n",
    "\n",
    "```\n",
    "var_name: expression\n",
    "```\n",
    "\n",
    "In order to take a closer look at only the data corresponding to January 2009, we can select the data from trips and store the resulting table in a variable called `jan09`."
   ]
  },
  {
   "cell_type": "code",
   "execution_count": 50,
   "metadata": {},
   "outputs": [
    {
     "data": {
      "text/plain": [
       "10420159\n"
      ]
     },
     "execution_count": 50,
     "metadata": {},
     "output_type": "execute_result"
    }
   ],
   "source": [
    "// Use keyword 'within' to filter the date\n",
    "jan09:select from trips where date within 2009.01.10 2009.01.31\n",
    "\n",
    "// Check how many records are in the filtered table\n",
    "count jan09"
   ]
  },
  {
   "cell_type": "markdown",
   "metadata": {},
   "source": [
    " <img src=\"images/qbies.png\" width=\"50px\" align=\"left\"/><p style='color:#273a6e'><i> By making this assignment, the new variable <code>jan09</code> is stored in memory. <br><br> This is true whether the source data was also in memory or stored on disk. </i></p>"
   ]
  },
  {
   "cell_type": "markdown",
   "metadata": {
    "reveal": "ivd3b5cffll",
    "reveal-hidden": false,
    "tags": []
   },
   "source": [
    "##### Exercise 3\n",
    "\n",
    "+ Assign the result of Exercise 2 to a variable called `res2`"
   ]
  },
  {
   "cell_type": "code",
   "execution_count": 51,
   "metadata": {
    "reveal": "ivd3b5cffll"
   },
   "outputs": [],
   "source": [
    "res2:select payment_type, fare from trips where date = min date;"
   ]
  },
  {
   "cell_type": "code",
   "execution_count": null,
   "metadata": {},
   "outputs": [],
   "source": [
    "// Enter your qSQL code here "
   ]
  },
  {
   "cell_type": "code",
   "execution_count": 16,
   "metadata": {},
   "outputs": [
    {
     "data": {
      "text/plain": [
       "payment_type fare\n",
       "-----------------\n",
       "CASH         5.8 \n",
       "CASH         5.4 \n",
       "CASH         5.8 \n",
       "CASH         4.6 \n",
       "CASH         27.8\n",
       "CASH         5.8 \n",
       "CASH         5.8 \n",
       "CASH         10.6\n",
       "CASH         2.9 \n",
       "CASH         11.8\n",
       "CASH         20.2\n",
       "CASH         23.4\n",
       "CASH         12.2\n",
       "CASH         17.8\n",
       "CASH         30.2\n",
       "CASH         7.4 \n",
       "CASH         5.8 \n",
       "CASH         9   \n",
       "No Charge    14.6\n",
       "CASH         17.3\n",
       "..\n"
      ]
     },
     "execution_count": 16,
     "metadata": {},
     "output_type": "execute_result"
    }
   ],
   "source": [
    "ex3[] //check correct output"
   ]
  },
  {
   "cell_type": "markdown",
   "metadata": {},
   "source": [
    "## Aggregations\n",
    "\n",
    "With the filtered data in `jan09`, aggregations and other analytics can be run without performing the filter query again. Below is a simple aggregation returning the sum of both the `fare` and `tip` columns. "
   ]
  },
  {
   "cell_type": "code",
   "execution_count": 17,
   "metadata": {},
   "outputs": [
    {
     "data": {
      "text/plain": [
       "fare         tip    \n",
       "--------------------\n",
       "9.840941e+07 5005536\n"
      ]
     },
     "execution_count": 17,
     "metadata": {},
     "output_type": "execute_result"
    }
   ],
   "source": [
    "select sum fare, sum tip from jan09"
   ]
  },
  {
   "cell_type": "markdown",
   "metadata": {},
   "source": [
    "[`sum`](https://code.kx.com/q/ref/sum/) is one of many built-in aggregations. Other built-in aggregations include, but are not limited to\n",
    "\n",
    "- [`avg`](https://code.kx.com/q/ref/avg/#avg) - average (mean)\n",
    "- [`med`](https://code.kx.com/q/ref/med/) - median\n",
    "- [`min`](https://code.kx.com/q/ref/min/) - minimum value\n",
    "- [`max`](https://code.kx.com/q/ref/max/) - maximum value\n",
    "- [`count`](https://code.kx.com/q/ref/count/) - number of values\n",
    "\n",
    "Reference: [Mathematics and statistics](https://code.kx.com/q/basics/math/)"
   ]
  },
  {
   "cell_type": "markdown",
   "metadata": {
    "reveal": "za08ozja9vh",
    "reveal-hidden": false,
    "tags": []
   },
   "source": [
    "##### Exercise 4\n",
    "- Calculate the minimum and maximum tip from the `jan09` table.\n"
   ]
  },
  {
   "cell_type": "code",
   "execution_count": 18,
   "metadata": {
    "reveal": "za08ozja9vh"
   },
   "outputs": [
    {
     "data": {
      "text/plain": [
       "maxTip minTip\n",
       "-------------\n",
       "100    0     \n"
      ]
     },
     "execution_count": 18,
     "metadata": {},
     "output_type": "execute_result"
    }
   ],
   "source": [
    "// maximum tip and minimum tip\n",
    "select maxTip:max tip, minTip:min tip from jan09"
   ]
  },
  {
   "cell_type": "code",
   "execution_count": null,
   "metadata": {},
   "outputs": [],
   "source": [
    "// Enter your qSQL code here "
   ]
  },
  {
   "cell_type": "code",
   "execution_count": 19,
   "metadata": {},
   "outputs": [
    {
     "data": {
      "text/plain": [
       "maxTip minTip\n",
       "-------------\n",
       "100    0     \n"
      ]
     },
     "execution_count": 19,
     "metadata": {},
     "output_type": "execute_result"
    }
   ],
   "source": [
    "ex4[] //check correct output"
   ]
  },
  {
   "cell_type": "markdown",
   "metadata": {},
   "source": [
    "## Grouping with `by` \n",
    "\n",
    "Unlike SQL, qSQL lets you group and aggregate separately.\n",
    "The easiest way to group similar values together is to use the `by` clause.\n",
    "\n",
    "When used without an aggregation, `by` returns a list of values from the selected column. List types are completely valid types in q, so this fine."
   ]
  },
  {
   "cell_type": "code",
   "execution_count": 20,
   "metadata": {},
   "outputs": [
    {
     "data": {
      "text/plain": [
       "vendor| fare                                                                 ..\n",
       "------| ---------------------------------------------------------------------..\n",
       "CMT   | 6.2 12.6 7 6.6 11 12.2 6.6 14.2 7 9 13 7.4 10.6 10.2 15.8 40.2 9.4 5...\n",
       "DDS   | 10.9 8.9 9.7 10.9 10.1 6.1 10.9 7.7 8.5 12.1 18.9 10.5 18.5 11.3 9.7 ..\n",
       "VTS   | 11.3 15.7 18.1 15.7 6.5 4.5 4.5 15.3 4.9 4.9 4.5 6.9 18.5 20.1 14.1 6..\n"
      ]
     },
     "execution_count": 20,
     "metadata": {},
     "output_type": "execute_result"
    }
   ],
   "source": [
    "select fare by vendor from jan09"
   ]
  },
  {
   "cell_type": "markdown",
   "metadata": {},
   "source": [
    "To extract some useful insight from the data, grouping is best used with aggregation functions as shown below:"
   ]
  },
  {
   "cell_type": "code",
   "execution_count": 22,
   "metadata": {},
   "outputs": [
    {
     "data": {
      "text/plain": [
       "vendor| fare         tip     \n",
       "------| ---------------------\n",
       "CMT   | 4.430574e+07 2059982 \n",
       "DDS   | 6120686      273323.2\n",
       "VTS   | 4.798299e+07 2672231 \n"
      ]
     },
     "execution_count": 22,
     "metadata": {},
     "output_type": "execute_result"
    }
   ],
   "source": [
    "select sum fare, sum tip by vendor from jan09"
   ]
  },
  {
   "cell_type": "code",
   "execution_count": 23,
   "metadata": {},
   "outputs": [
    {
     "data": {
      "text/plain": [
       "date      | x     \n",
       "----------| ------\n",
       "2009.01.10| 483350\n",
       "2009.01.11| 405075\n",
       "2009.01.12| 414642\n",
       "2009.01.13| 442543\n",
       "2009.01.14| 489177\n",
       "2009.01.15| 486450\n",
       "2009.01.16| 535200\n",
       "2009.01.17| 511023\n",
       "2009.01.18| 419962\n",
       "2009.01.19| 352534\n",
       "2009.01.20| 433639\n",
       "2009.01.21| 478268\n",
       "2009.01.22| 498241\n",
       "2009.01.23| 519394\n",
       "2009.01.24| 547591\n",
       "2009.01.25| 460723\n",
       "2009.01.26| 434081\n",
       "2009.01.27| 471788\n",
       "2009.01.28| 455187\n",
       "2009.01.29| 503352\n",
       "..\n"
      ]
     },
     "execution_count": 23,
     "metadata": {},
     "output_type": "execute_result"
    }
   ],
   "source": [
    "// Get the number of records per day in the filtered table\n",
    "select count i by date from jan09"
   ]
  },
  {
   "cell_type": "markdown",
   "metadata": {
    "reveal": "bxg4rn8vwtq",
    "reveal-hidden": false,
    "tags": []
   },
   "source": [
    "##### Exercise 5\n",
    "- What is the biggest tip for each vendor?"
   ]
  },
  {
   "cell_type": "code",
   "execution_count": 24,
   "metadata": {
    "reveal": "bxg4rn8vwtq"
   },
   "outputs": [
    {
     "data": {
      "text/plain": [
       "vendor| tip  \n",
       "------| -----\n",
       "CMT   | 93.22\n",
       "DDS   | 100  \n",
       "VTS   | 100  \n"
      ]
     },
     "execution_count": 24,
     "metadata": {},
     "output_type": "execute_result"
    }
   ],
   "source": [
    "select max tip by vendor from jan09"
   ]
  },
  {
   "cell_type": "code",
   "execution_count": null,
   "metadata": {},
   "outputs": [],
   "source": [
    "// Enter your qSQL code here "
   ]
  },
  {
   "cell_type": "code",
   "execution_count": 25,
   "metadata": {},
   "outputs": [
    {
     "data": {
      "text/plain": [
       "vendor| tip  \n",
       "------| -----\n",
       "CMT   | 93.22\n",
       "DDS   | 100  \n",
       "VTS   | 100  \n"
      ]
     },
     "execution_count": 25,
     "metadata": {},
     "output_type": "execute_result"
    }
   ],
   "source": [
    "ex5[] //check correct output"
   ]
  },
  {
   "cell_type": "markdown",
   "metadata": {
    "reveal": "rr3wibnil2",
    "reveal-hidden": false,
    "tags": []
   },
   "source": [
    "##### Exercise 6 \n",
    "- What is the highest tip and average tip per payment_type?"
   ]
  },
  {
   "cell_type": "code",
   "execution_count": 27,
   "metadata": {
    "reveal": "rr3wibnil2"
   },
   "outputs": [
    {
     "data": {
      "text/plain": [
       "payment_type| maxTip avgTip     \n",
       "------------| ------------------\n",
       "CASH        | 82     0.00077795 \n",
       "CREDIT      | 100    2.145682   \n",
       "Dispute     | 11.25  0.01481096 \n",
       "No Charge   | 13.35  0.006573717\n"
      ]
     },
     "execution_count": 27,
     "metadata": {},
     "output_type": "execute_result"
    }
   ],
   "source": [
    "select maxTip:max tip, avgTip:avg tip by payment_type from jan09"
   ]
  },
  {
   "cell_type": "code",
   "execution_count": null,
   "metadata": {},
   "outputs": [],
   "source": [
    "// Enter your qSQL code here "
   ]
  },
  {
   "cell_type": "code",
   "execution_count": 28,
   "metadata": {},
   "outputs": [
    {
     "data": {
      "text/plain": [
       "payment_type| maxTip avgTip     \n",
       "------------| ------------------\n",
       "CASH        | 82     0.00077795 \n",
       "CREDIT      | 100    2.145682   \n",
       "Dispute     | 11.25  0.01481096 \n",
       "No Charge   | 13.35  0.006573717\n"
      ]
     },
     "execution_count": 28,
     "metadata": {},
     "output_type": "execute_result"
    }
   ],
   "source": [
    "ex6[] //check correct output"
   ]
  },
  {
   "cell_type": "markdown",
   "metadata": {},
   "source": [
    "## Using `fby` to avoid nested queries\n",
    "\n",
    "Nested queries are commonly required in SQL where filter criteria require aggregations in the context of some other column. For example, getting all records where the ride duration is less than the average for that taxi’s vendor."
   ]
  },
  {
   "cell_type": "markdown",
   "metadata": {},
   "source": [
    "In SQL  we would first get the average duration for each vendor; then perform a query for each duration and vendor:"
   ]
  },
  {
   "cell_type": "code",
   "execution_count": 29,
   "metadata": {},
   "outputs": [],
   "source": [
    "// Get the average duration per vendor and save resulting table in a variable\n",
    "resBy: select avgDuration:avg duration by vendor from jan09"
   ]
  },
  {
   "cell_type": "code",
   "execution_count": 30,
   "metadata": {},
   "outputs": [
    {
     "data": {
      "text/plain": [
       "date       month   vendor pickup_time                   dropoff_time         ..\n",
       "-----------------------------------------------------------------------------..\n",
       "2009.01.10 2009.01 VTS    2009.01.10D00:00:00.000000000 2009.01.10D00:08:00.0..\n",
       "2009.01.10 2009.01 VTS    2009.01.10D00:00:00.000000000 2009.01.10D00:04:00.0..\n",
       "2009.01.10 2009.01 VTS    2009.01.10D00:00:00.000000000 2009.01.10D00:02:00.0..\n",
       "2009.01.10 2009.01 VTS    2009.01.10D00:00:00.000000000 2009.01.10D00:05:00.0..\n",
       "2009.01.10 2009.01 VTS    2009.01.10D00:00:00.000000000 2009.01.10D00:08:00.0..\n",
       "2009.01.10 2009.01 VTS    2009.01.10D00:00:00.000000000 2009.01.10D00:07:00.0..\n",
       "2009.01.10 2009.01 VTS    2009.01.10D00:00:00.000000000 2009.01.10D00:07:00.0..\n",
       "2009.01.10 2009.01 VTS    2009.01.10D00:00:00.000000000 2009.01.10D00:03:00.0..\n",
       "2009.01.10 2009.01 VTS    2009.01.10D00:00:00.000000000 2009.01.10D00:09:00.0..\n",
       "2009.01.10 2009.01 VTS    2009.01.10D00:00:00.000000000 2009.01.10D00:03:00.0..\n",
       "2009.01.10 2009.01 VTS    2009.01.10D00:00:00.000000000 2009.01.10D00:10:00.0..\n",
       "2009.01.10 2009.01 VTS    2009.01.10D00:00:00.000000000 2009.01.10D00:01:00.0..\n",
       "2009.01.10 2009.01 VTS    2009.01.10D00:00:00.000000000 2009.01.10D00:09:00.0..\n",
       "2009.01.10 2009.01 VTS    2009.01.10D00:00:00.000000000 2009.01.10D00:09:00.0..\n",
       "2009.01.10 2009.01 VTS    2009.01.10D00:00:00.000000000 2009.01.10D00:03:00.0..\n",
       "2009.01.10 2009.01 VTS    2009.01.10D00:00:00.000000000 2009.01.10D00:11:00.0..\n",
       "2009.01.10 2009.01 VTS    2009.01.10D00:00:00.000000000 2009.01.10D00:04:00.0..\n",
       "2009.01.10 2009.01 VTS    2009.01.10D00:00:00.000000000 2009.01.10D00:08:00.0..\n",
       "2009.01.10 2009.01 VTS    2009.01.10D00:00:00.000000000 2009.01.10D00:07:00.0..\n",
       "2009.01.10 2009.01 VTS    2009.01.10D00:00:00.000000000 2009.01.10D00:05:00.0..\n",
       "..\n"
      ]
     },
     "execution_count": 30,
     "metadata": {},
     "output_type": "execute_result"
    }
   ],
   "source": [
    "// Using 'lj' to join the average duration column to our table\n",
    "// Don't worry about this now, joins are discussed in a later section\n",
    "select from jan09 lj resBy where duration < avgDuration"
   ]
  },
  {
   "cell_type": "markdown",
   "metadata": {},
   "source": [
    "In q, this can be simply expressed using [`fby`](https://code.kx.com/q/ref/fby/).\n",
    "\n",
    "The syntax of `fby` is `(aggregation;data) fby group`, as query below. Compare the above statement to how it was done without `fby`."
   ]
  },
  {
   "cell_type": "code",
   "execution_count": 31,
   "metadata": {},
   "outputs": [
    {
     "data": {
      "text/plain": [
       "fare\n",
       "----\n",
       "200 \n"
      ]
     },
     "execution_count": 31,
     "metadata": {},
     "output_type": "execute_result"
    }
   ],
   "source": [
    "select max fare from jan09 where duration < (avg;duration) fby vendor"
   ]
  },
  {
   "cell_type": "markdown",
   "metadata": {},
   "source": [
    "You can see how much simpler an `fby` clause is compared to the above statements."
   ]
  },
  {
   "cell_type": "markdown",
   "metadata": {},
   "source": [
    "##### Exercise 7 "
   ]
  },
  {
   "cell_type": "markdown",
   "metadata": {
    "reveal": "6am1zs9tdg",
    "reveal-hidden": false,
    "tags": []
   },
   "source": [
    "- Which payment type produces the highest average tip when only trips with a fare larger than the average for each vendor is considered?"
   ]
  },
  {
   "cell_type": "code",
   "execution_count": 32,
   "metadata": {
    "reveal": "6am1zs9tdg"
   },
   "outputs": [
    {
     "name": "stdout",
     "output_type": "stream",
     "text": [
      "payment_type| tip        \n",
      "------------| -----------\n",
      "CASH        | 0.001723333\n",
      "CREDIT      | 3.004373   \n",
      "Dispute     | 0.02912136 \n",
      "No Charge   | 0.0112184  \n"
     ]
    },
    {
     "data": {
      "text/plain": [
       "payment_type\n",
       "------------\n",
       "CREDIT      \n"
      ]
     },
     "execution_count": 32,
     "metadata": {},
     "output_type": "execute_result"
    }
   ],
   "source": [
    "res7a:select avg tip by payment_type from jan09 where fare > (avg;fare) fby vendor;\n",
    "show res7a;\n",
    "select payment_type from res7a where tip = max tip "
   ]
  },
  {
   "cell_type": "code",
   "execution_count": null,
   "metadata": {},
   "outputs": [],
   "source": [
    "// Enter your qSQL code here "
   ]
  },
  {
   "cell_type": "code",
   "execution_count": 33,
   "metadata": {},
   "outputs": [
    {
     "name": "stdout",
     "output_type": "stream",
     "text": [
      "payment_type| tip        \n",
      "------------| -----------\n",
      "CASH        | 0.001723333\n",
      "CREDIT      | 3.004373   \n",
      "Dispute     | 0.02912136 \n",
      "No Charge   | 0.0112184  \n"
     ]
    },
    {
     "data": {
      "text/plain": [
       "payment_type\n",
       "------------\n",
       "CREDIT      \n"
      ]
     },
     "execution_count": 33,
     "metadata": {},
     "output_type": "execute_result"
    }
   ],
   "source": [
    "ex7_a[] //check correct output"
   ]
  },
  {
   "cell_type": "markdown",
   "metadata": {
    "reveal": "5u9hwcmqxn",
    "reveal-hidden": false,
    "tags": []
   },
   "source": [
    "- Which vendor has the largest number of trips when only considering trips shorter than the average duration for each vendor?"
   ]
  },
  {
   "cell_type": "code",
   "execution_count": 34,
   "metadata": {
    "reveal": "5u9hwcmqxn"
   },
   "outputs": [
    {
     "name": "stdout",
     "output_type": "stream",
     "text": [
      "vendor| x      \n",
      "------| -------\n",
      "CMT   | 2883225\n",
      "DDS   | 402781 \n",
      "VTS   | 3592460\n"
     ]
    },
    {
     "data": {
      "text/plain": [
       "vendor\n",
       "------\n",
       "VTS   \n"
      ]
     },
     "execution_count": 34,
     "metadata": {},
     "output_type": "execute_result"
    }
   ],
   "source": [
    "res7b:select count i by vendor from jan09 where duration < (avg;duration) fby vendor;\n",
    "show res7b;\n",
    "select vendor from res7b where x = max x"
   ]
  },
  {
   "cell_type": "code",
   "execution_count": null,
   "metadata": {},
   "outputs": [],
   "source": [
    "// Enter your qSQL code here "
   ]
  },
  {
   "cell_type": "code",
   "execution_count": 35,
   "metadata": {},
   "outputs": [
    {
     "name": "stdout",
     "output_type": "stream",
     "text": [
      "vendor| x      \n",
      "------| -------\n",
      "CMT   | 2883225\n",
      "DDS   | 402781 \n",
      "VTS   | 3592460\n"
     ]
    },
    {
     "data": {
      "text/plain": [
       "vendor\n",
       "------\n",
       "VTS   \n"
      ]
     },
     "execution_count": 35,
     "metadata": {},
     "output_type": "execute_result"
    }
   ],
   "source": [
    "ex7_b[] //check correct output"
   ]
  },
  {
   "cell_type": "markdown",
   "metadata": {},
   "source": [
    "## Updating existing data\n",
    "\n",
    "When exploring, you often need to fix bad data, whether from incorrect entry, incompatible units of measure, or other reasons. \n",
    "\n",
    "If we inspect the data and look at the maximum passengers for each vendor, the maximum number for 2 vendors is 6."
   ]
  },
  {
   "cell_type": "code",
   "execution_count": 36,
   "metadata": {},
   "outputs": [
    {
     "data": {
      "text/plain": [
       "vendor| passengers\n",
       "------| ----------\n",
       "CMT   | 5         \n",
       "DDS   | 6         \n",
       "VTS   | 113       \n"
      ]
     },
     "execution_count": 36,
     "metadata": {},
     "output_type": "execute_result"
    }
   ],
   "source": [
    "select max passengers by vendor from jan09"
   ]
  },
  {
   "cell_type": "markdown",
   "metadata": {},
   "source": [
    "If the above data is wrong, it can be fixed using `update` to change the data. Below, the passengers column is set to the value `5` in any entry where the passenger count is greater than 5. This is then assigned back to `jan09`."
   ]
  },
  {
   "cell_type": "code",
   "execution_count": 37,
   "metadata": {},
   "outputs": [
    {
     "data": {
      "text/plain": [
       "date       month   vendor pickup_time                   dropoff_time         ..\n",
       "-----------------------------------------------------------------------------..\n",
       "2009.01.10 2009.01 VTS    2009.01.10D00:01:00.000000000 2009.01.10D00:09:00.0..\n",
       "2009.01.10 2009.01 VTS    2009.01.10D00:02:00.000000000 2009.01.10D00:05:00.0..\n",
       "2009.01.10 2009.01 VTS    2009.01.10D00:02:00.000000000 2009.01.10D00:24:00.0..\n",
       "2009.01.10 2009.01 VTS    2009.01.10D00:03:00.000000000 2009.01.10D00:12:00.0..\n",
       "2009.01.10 2009.01 VTS    2009.01.10D00:03:00.000000000 2009.01.10D00:24:00.0..\n",
       "2009.01.10 2009.01 VTS    2009.01.10D00:04:00.000000000 2009.01.10D00:28:00.0..\n",
       "2009.01.10 2009.01 VTS    2009.01.10D00:04:00.000000000 2009.01.10D00:07:00.0..\n",
       "2009.01.10 2009.01 VTS    2009.01.10D00:05:00.000000000 2009.01.10D00:28:00.0..\n",
       "2009.01.10 2009.01 VTS    2009.01.10D00:05:00.000000000 2009.01.10D00:12:00.0..\n",
       "2009.01.10 2009.01 VTS    2009.01.10D00:05:00.000000000 2009.01.10D00:30:00.0..\n",
       "2009.01.10 2009.01 VTS    2009.01.10D00:06:00.000000000 2009.01.10D00:07:00.0..\n",
       "2009.01.10 2009.01 VTS    2009.01.10D00:07:00.000000000 2009.01.10D00:18:00.0..\n",
       "2009.01.10 2009.01 VTS    2009.01.10D00:08:00.000000000 2009.01.10D00:08:00.0..\n",
       "2009.01.10 2009.01 VTS    2009.01.10D00:09:00.000000000 2009.01.10D00:17:00.0..\n",
       "2009.01.10 2009.01 VTS    2009.01.10D00:09:00.000000000 2009.01.10D00:15:00.0..\n",
       "2009.01.10 2009.01 VTS    2009.01.10D00:09:00.000000000 2009.01.10D00:23:00.0..\n",
       "2009.01.10 2009.01 VTS    2009.01.10D00:10:00.000000000 2009.01.10D00:12:00.0..\n",
       "2009.01.10 2009.01 VTS    2009.01.10D00:10:00.000000000 2009.01.10D00:21:00.0..\n",
       "2009.01.10 2009.01 VTS    2009.01.10D00:10:00.000000000 2009.01.10D00:20:00.0..\n",
       "2009.01.10 2009.01 VTS    2009.01.10D00:11:00.000000000 2009.01.10D00:18:00.0..\n",
       "..\n"
      ]
     },
     "execution_count": 37,
     "metadata": {},
     "output_type": "execute_result"
    }
   ],
   "source": [
    "// Find all records where the number of passengers is greater than 5\n",
    "select from jan09 where passengers > 5"
   ]
  },
  {
   "cell_type": "code",
   "execution_count": 38,
   "metadata": {},
   "outputs": [],
   "source": [
    "// Update maximum number of passengers to be 5 \n",
    "// Save changes by reassigning back to jan09\n",
    "jan09: update passengers: 5 from jan09 where passengers > 5"
   ]
  },
  {
   "cell_type": "code",
   "execution_count": 27,
   "metadata": {},
   "outputs": [
    {
     "ename": "\u001b[0;31mjan09\u001b[0m",
     "evalue": "\u001b[0;31mjan09\u001b[0m",
     "output_type": "error",
     "traceback": [
      "\u001b[0;31mevaluation error:\n\u001b[0m",
      "\u001b[0;31mjan09\u001b[0m",
      "\u001b[0;31m\u001b[0m",
      "\u001b[0;31m  [0]  jan09\n       ^\n\u001b[0m"
     ]
    }
   ],
   "source": [
    "jan09"
   ]
  },
  {
   "cell_type": "markdown",
   "metadata": {},
   "source": [
    "Observe below that the maximum passengers reported has now been updated."
   ]
  },
  {
   "cell_type": "code",
   "execution_count": 39,
   "metadata": {},
   "outputs": [
    {
     "data": {
      "text/plain": [
       "vendor| passengers\n",
       "------| ----------\n",
       "CMT   | 5         \n",
       "DDS   | 5         \n",
       "VTS   | 5         \n"
      ]
     },
     "execution_count": 39,
     "metadata": {},
     "output_type": "execute_result"
    }
   ],
   "source": [
    "select max passengers by vendor from jan09"
   ]
  },
  {
   "cell_type": "markdown",
   "metadata": {},
   "source": [
    "Now that we have updated the table, we can add a column with the weighted average fare per passenger:"
   ]
  },
  {
   "cell_type": "code",
   "execution_count": 40,
   "metadata": {},
   "outputs": [
    {
     "data": {
      "text/plain": [
       "c           | t f a\n",
       "------------| -----\n",
       "date        | d    \n",
       "month       | m    \n",
       "vendor      | s    \n",
       "pickup_time | p    \n",
       "dropoff_time| p    \n",
       "duration    | n    \n",
       "passengers  | i    \n",
       "distance    | f    \n",
       "start_long  | f    \n",
       "start_lat   | f    \n",
       "end_long    | f    \n",
       "end_lat     | f    \n",
       "payment_type| s    \n",
       "fare        | f    \n",
       "surcharge   | e    \n",
       "tip         | f    \n",
       "tolls       | f    \n",
       "total       | f    \n",
       "wAvgfare    | f    \n"
      ]
     },
     "execution_count": 40,
     "metadata": {},
     "output_type": "execute_result"
    }
   ],
   "source": [
    "jan09:update wAvgfare:passengers wavg fare from jan09\n",
    "meta jan09 //new column has been added to the end of the table"
   ]
  },
  {
   "cell_type": "markdown",
   "metadata": {},
   "source": [
    "We also see a few trips that didn't take place: no recorded duration. Let’s delete these rows:"
   ]
  },
  {
   "cell_type": "code",
   "execution_count": 41,
   "metadata": {},
   "outputs": [
    {
     "data": {
      "text/plain": [
       "10420159\n"
      ]
     },
     "execution_count": 41,
     "metadata": {},
     "output_type": "execute_result"
    },
    {
     "data": {
      "text/plain": [
       "10357181\n"
      ]
     },
     "execution_count": 41,
     "metadata": {},
     "output_type": "execute_result"
    }
   ],
   "source": [
    "count jan09  //number of records before deleting rows\n",
    "jan09:delete from jan09 where duration=00:00:00.000\n",
    "count jan09  //number of records after deleteing rows "
   ]
  },
  {
   "cell_type": "markdown",
   "metadata": {},
   "source": [
    "## Temporal Arithmetic\n",
    "\n",
    "Q supports several temporal types and arithmetic between them. Writing queries involving time is simple.  \n",
    "\n",
    "See [here](https://code.kx.com/q/ref/#datatypes) for a summary of [`datatypes`](https://code.kx.com/q/ref/#datatypes)\n",
    "\n",
    "The `pickup_time` column in the data has a type of *timestamp*.\n",
    "As an example, we could convert the `pickup_time` values to their `minute` values (including hours and minutes), and group the data based on this time frame."
   ]
  },
  {
   "cell_type": "code",
   "execution_count": 42,
   "metadata": {},
   "outputs": [
    {
     "data": {
      "text/plain": [
       "pickup_time                   second   minute hh\n",
       "------------------------------------------------\n",
       "2009.01.10D00:00:00.000000000 00:00:00 00:00  0 \n",
       "2009.01.10D00:00:00.000000000 00:00:00 00:00  0 \n",
       "2009.01.10D00:00:00.000000000 00:00:00 00:00  0 \n",
       "2009.01.10D00:00:00.000000000 00:00:00 00:00  0 \n",
       "2009.01.10D00:00:00.000000000 00:00:00 00:00  0 \n",
       "2009.01.10D00:00:00.000000000 00:00:00 00:00  0 \n",
       "2009.01.10D00:00:00.000000000 00:00:00 00:00  0 \n",
       "2009.01.10D00:00:00.000000000 00:00:00 00:00  0 \n",
       "2009.01.10D00:00:00.000000000 00:00:00 00:00  0 \n",
       "2009.01.10D00:00:00.000000000 00:00:00 00:00  0 \n",
       "2009.01.10D00:00:00.000000000 00:00:00 00:00  0 \n",
       "2009.01.10D00:00:00.000000000 00:00:00 00:00  0 \n",
       "2009.01.10D00:00:00.000000000 00:00:00 00:00  0 \n",
       "2009.01.10D00:00:00.000000000 00:00:00 00:00  0 \n",
       "2009.01.10D00:00:00.000000000 00:00:00 00:00  0 \n",
       "2009.01.10D00:00:00.000000000 00:00:00 00:00  0 \n",
       "2009.01.10D00:00:00.000000000 00:00:00 00:00  0 \n",
       "2009.01.10D00:00:00.000000000 00:00:00 00:00  0 \n",
       "2009.01.10D00:00:00.000000000 00:00:00 00:00  0 \n",
       "2009.01.10D00:00:00.000000000 00:00:00 00:00  0 \n",
       "..\n"
      ]
     },
     "execution_count": 42,
     "metadata": {},
     "output_type": "execute_result"
    }
   ],
   "source": [
    "select pickup_time, pickup_time.second, pickup_time.minute, pickup_time.hh from jan09"
   ]
  },
  {
   "cell_type": "markdown",
   "metadata": {},
   "source": [
    " <img src=\"images/qbies.png\" width=\"50px\" align=\"left\"/><p style='color:#273a6e'><i> The query below returns the total money made each minute by cabs in January. <br><br> Observe the following expression within the query: <code>sum fare + tip</code> </i></p>"
   ]
  },
  {
   "cell_type": "markdown",
   "metadata": {},
   "source": [
    "This expression highlights an important feature of q syntax: **evaluation is from right-to-left**. The argument of `sum` is everything to its right, that is `fare` plus `tip. This simple rule holds everywhere; there are no priorities to remember."
   ]
  },
  {
   "cell_type": "code",
   "execution_count": 43,
   "metadata": {},
   "outputs": [
    {
     "data": {
      "text/plain": [
       "minute| total   \n",
       "------| --------\n",
       "00:00 | 81036.05\n",
       "00:01 | 80896.72\n",
       "00:02 | 81054.25\n",
       "00:03 | 79761.3 \n",
       "00:04 | 79826.02\n",
       "00:05 | 80357.91\n",
       "00:06 | 79977.98\n",
       "00:07 | 77943.35\n",
       "00:08 | 79075.81\n",
       "00:09 | 78359.53\n",
       "00:10 | 80306.23\n",
       "00:11 | 77727.6 \n",
       "00:12 | 77619.98\n",
       "00:13 | 76999.45\n",
       "00:14 | 76558.47\n",
       "00:15 | 76293.44\n",
       "00:16 | 75827.81\n",
       "00:17 | 78801.69\n",
       "00:18 | 76313.8 \n",
       "00:19 | 73535.35\n",
       "..\n"
      ]
     },
     "execution_count": 43,
     "metadata": {},
     "output_type": "execute_result"
    }
   ],
   "source": [
    "select total:sum fare + tip by pickup_time.minute from jan09"
   ]
  },
  {
   "cell_type": "code",
   "execution_count": 44,
   "metadata": {},
   "outputs": [
    {
     "data": {
      "text/plain": [
       "minute| total                                                                ..\n",
       "------| ---------------------------------------------------------------------..\n",
       "00:00 | 76879.25 76879.25 76879.25 76879.25 76881.25 76879.25 76882.25 76882...\n",
       "00:01 | 76743.1 76748.45 76743.1 76743.1 76743.1 76743.1 76745.1 76745.1 7674..\n",
       "00:02 | 77195.2 77195.2 77195.2 77196.2 77195.2 77195.2 77197.2 77195.2 77195..\n",
       "00:03 | 75765.2 75763.2 75763.2 75763.2 75763.2 75763.2 75772.2 75763.2 75763..\n",
       "00:04 | 75773.3 75773.3 75773.3 75773.3 75773.3 75773.3 75775.3 75773.3 75774..\n",
       "00:05 | 76372.85 76371.85 76369.85 76369.85 76371.85 76369.85 76369.85 76372...\n",
       "00:06 | 75990.96 75990.96 75990.96 75990.96 75990.96 75990.96 75990.96 75990...\n",
       "00:07 | 74125.53 74124.23 74124.23 74124.23 74124.23 74124.23 74124.23 74124...\n",
       "00:08 | 75002.25 75000.25 75000.25 75000.25 75001.25 75000.25 75002.25 75000...\n",
       "00:09 | 74536.6 74540.32 74536.6 74536.6 74536.6 74540.6 74537.7 74536.6 7453..\n",
       "00:10 | 76128.45 76128.45 76128.45 76128.45 76128.45 76128.45 76128.45 76130...\n",
       "00:11 | 73844.92 73843.92 73843.92 73843.92 73843.92 73843.92 73845.92 73843...\n",
       "00:12 | 73742.19 73742.19 73742.19 73745.43 73742.19 73742.19 73744.19 73742...\n",
       "00:13 | 73162.6 73162.6 73162.6 73166.08 73162.6 73162.6 73162.6 73162.6 7316..\n",
       "00:14 | 72873.25 72874.75 72873.25 72873.25 72880.63 72874.5 72876.25 72873.2..\n",
       "00:15 | 72457.8 72456.8 72456.8 72463.65 72456.8 72456.8 72456.8 72456.8 7245..\n",
       "00:16 | 72089.03 72085.63 72085.63 72085.63 72086.63 72086.63 72087.63 72085...\n",
       "00:17 | 74737.1 74737.1 74738.6 74737.1 74737.1 74737.1 74739.1 74737.1 74737..\n",
       "00:18 | 72448.6 72450.6 72449.6 72449.6 72448.6 72448.6 72448.6 72449.6 72448..\n",
       "00:19 | 69837.5 69837.5 69837.5 69837.5 69837.5 69837.5 69837.5 69837.5 69837..\n",
       "..\n"
      ]
     },
     "execution_count": 44,
     "metadata": {},
     "output_type": "execute_result"
    }
   ],
   "source": [
    "select total:(sum fare) + tip by pickup_time.minute from jan09 "
   ]
  },
  {
   "cell_type": "markdown",
   "metadata": {},
   "source": [
    "Aggregate further on time by using `xbar` to bucket the minutes into hours. Group the minutes into 60-unit buckets to produce hours:"
   ]
  },
  {
   "cell_type": "code",
   "execution_count": 45,
   "metadata": {},
   "outputs": [
    {
     "data": {
      "text/plain": [
       "minute| x    \n",
       "------| -----\n",
       "00:00 | 28975\n",
       "01:00 | 24007\n",
       "02:00 | 20202\n",
       "03:00 | 15472\n",
       "04:00 | 9721 \n",
       "05:00 | 4288 \n",
       "06:00 | 4309 \n",
       "07:00 | 6303 \n",
       "08:00 | 9735 \n",
       "09:00 | 14168\n",
       "10:00 | 17338\n",
       "11:00 | 19954\n",
       "12:00 | 23246\n",
       "13:00 | 25600\n",
       "14:00 | 22418\n",
       "15:00 | 23091\n",
       "16:00 | 23762\n",
       "17:00 | 22466\n",
       "18:00 | 26649\n",
       "19:00 | 30790\n",
       "..\n"
      ]
     },
     "execution_count": 45,
     "metadata": {},
     "output_type": "execute_result"
    }
   ],
   "source": [
    "select count i by 60 xbar pickup_time.minute from jan09 where date = 2009.01.10"
   ]
  },
  {
   "cell_type": "markdown",
   "metadata": {
    "reveal": "vn1t5tfbk5f",
    "reveal-hidden": false,
    "tags": []
   },
   "source": [
    "##### Exercise 8\n",
    "- Show the largest tip for each 15-minute timespan during the month of January."
   ]
  },
  {
   "cell_type": "code",
   "execution_count": 46,
   "metadata": {
    "reveal": "vn1t5tfbk5f"
   },
   "outputs": [
    {
     "data": {
      "text/plain": [
       "minute| tip  \n",
       "------| -----\n",
       "00:00 | 90   \n",
       "00:15 | 68   \n",
       "00:30 | 62   \n",
       "00:45 | 100  \n",
       "01:00 | 73.3 \n",
       "01:15 | 57   \n",
       "01:30 | 79   \n",
       "01:45 | 58.25\n",
       "02:00 | 93.22\n",
       "02:15 | 55   \n",
       "02:30 | 92   \n",
       "02:45 | 100  \n",
       "03:00 | 55   \n",
       "03:15 | 67.54\n",
       "03:30 | 85.25\n",
       "03:45 | 90   \n",
       "04:00 | 55.55\n",
       "04:15 | 90.45\n",
       "04:30 | 75   \n",
       "04:45 | 65   \n",
       "..\n"
      ]
     },
     "execution_count": 46,
     "metadata": {},
     "output_type": "execute_result"
    }
   ],
   "source": [
    "select max tip by 15 xbar pickup_time.minute from jan09"
   ]
  },
  {
   "cell_type": "code",
   "execution_count": null,
   "metadata": {},
   "outputs": [],
   "source": [
    "// Enter your qSQL code here "
   ]
  },
  {
   "cell_type": "code",
   "execution_count": 47,
   "metadata": {},
   "outputs": [
    {
     "data": {
      "text/plain": [
       "minute| tip  \n",
       "------| -----\n",
       "00:00 | 90   \n",
       "00:15 | 68   \n",
       "00:30 | 62   \n",
       "00:45 | 100  \n",
       "01:00 | 73.3 \n",
       "01:15 | 57   \n",
       "01:30 | 79   \n",
       "01:45 | 58.25\n",
       "02:00 | 93.22\n",
       "02:15 | 55   \n",
       "02:30 | 92   \n",
       "02:45 | 100  \n",
       "03:00 | 55   \n",
       "03:15 | 67.54\n",
       "03:30 | 85.25\n",
       "03:45 | 90   \n",
       "04:00 | 55.55\n",
       "04:15 | 90.45\n",
       "04:30 | 75   \n",
       "04:45 | 65   \n",
       "..\n"
      ]
     },
     "execution_count": 47,
     "metadata": {},
     "output_type": "execute_result"
    }
   ],
   "source": [
    "ex8_a[] //check correct output"
   ]
  },
  {
   "cell_type": "markdown",
   "metadata": {
    "reveal": "3ya8jq0bhu4",
    "reveal-hidden": false,
    "tags": []
   },
   "source": [
    " - Break this information down by vendor."
   ]
  },
  {
   "cell_type": "code",
   "execution_count": 48,
   "metadata": {
    "reveal": "3ya8jq0bhu4"
   },
   "outputs": [
    {
     "data": {
      "text/plain": [
       "minute vendor| tip  \n",
       "-------------| -----\n",
       "00:00  CMT   | 35   \n",
       "00:00  DDS   | 23.2 \n",
       "00:00  VTS   | 90   \n",
       "00:15  CMT   | 55   \n",
       "00:15  DDS   | 55   \n",
       "00:15  VTS   | 68   \n",
       "00:30  CMT   | 39.98\n",
       "00:30  DDS   | 24   \n",
       "00:30  VTS   | 62   \n",
       "00:45  CMT   | 55.33\n",
       "00:45  DDS   | 24   \n",
       "00:45  VTS   | 100  \n",
       "01:00  CMT   | 55   \n",
       "01:00  DDS   | 20   \n",
       "01:00  VTS   | 73.3 \n",
       "01:15  CMT   | 35.82\n",
       "01:15  DDS   | 45.23\n",
       "01:15  VTS   | 57   \n",
       "01:30  CMT   | 70   \n",
       "01:30  DDS   | 27   \n",
       "..\n"
      ]
     },
     "execution_count": 48,
     "metadata": {},
     "output_type": "execute_result"
    }
   ],
   "source": [
    "select max tip by 15 xbar pickup_time.minute,vendor from jan09"
   ]
  },
  {
   "cell_type": "code",
   "execution_count": null,
   "metadata": {},
   "outputs": [],
   "source": [
    "// Enter your qSQL code here "
   ]
  },
  {
   "cell_type": "code",
   "execution_count": 49,
   "metadata": {},
   "outputs": [
    {
     "data": {
      "text/plain": [
       "minute vendor| tip  \n",
       "-------------| -----\n",
       "00:00  CMT   | 35   \n",
       "00:00  DDS   | 23.2 \n",
       "00:00  VTS   | 90   \n",
       "00:15  CMT   | 55   \n",
       "00:15  DDS   | 55   \n",
       "00:15  VTS   | 68   \n",
       "00:30  CMT   | 39.98\n",
       "00:30  DDS   | 24   \n",
       "00:30  VTS   | 62   \n",
       "00:45  CMT   | 55.33\n",
       "00:45  DDS   | 24   \n",
       "00:45  VTS   | 100  \n",
       "01:00  CMT   | 55   \n",
       "01:00  DDS   | 20   \n",
       "01:00  VTS   | 73.3 \n",
       "01:15  CMT   | 35.82\n",
       "01:15  DDS   | 45.23\n",
       "01:15  VTS   | 57   \n",
       "01:30  CMT   | 70   \n",
       "01:30  DDS   | 27   \n",
       "..\n"
      ]
     },
     "execution_count": 49,
     "metadata": {},
     "output_type": "execute_result"
    }
   ],
   "source": [
    "ex8_b[] //check correct output"
   ]
  },
  {
   "cell_type": "code",
   "execution_count": null,
   "metadata": {},
   "outputs": [],
   "source": []
  }
 ],
 "metadata": {
  "kernelspec": {
   "display_name": "Q (kdb+)",
   "language": "q",
   "name": "qpk"
  },
  "language_info": {
   "file_extension": ".q",
   "mimetype": "text/x-q",
   "name": "q",
   "version": "4.1.0"
  },
  "latex_envs": {
   "LaTeX_envs_menu_present": true,
   "autoclose": false,
   "autocomplete": true,
   "bibliofile": "biblio.bib",
   "cite_by": "apalike",
   "current_citInitial": 1,
   "eqLabelWithNumbers": true,
   "eqNumInitial": 1,
   "hotkeys": {
    "equation": "Ctrl-E",
    "itemize": "Ctrl-I"
   },
   "labels_anchors": false,
   "latex_user_defs": false,
   "report_style_numbering": false,
   "user_envs_cfg": false
  },
  "toc": {
   "base_numbering": 1,
   "nav_menu": {
    "height": "564px",
    "width": "305px"
   },
   "number_sections": true,
   "sideBar": true,
   "skip_h1_title": false,
   "title_cell": "Table of Contents",
   "title_sidebar": "Contents",
   "toc_cell": false,
   "toc_position": {},
   "toc_section_display": true,
   "toc_window_display": false
  },
  "toc-autonumbering": true,
  "toc-showmarkdowntxt": true,
  "widgets": {
   "application/vnd.jupyter.widget-state+json": {
    "state": {},
    "version_major": 2,
    "version_minor": 0
   }
  }
 },
 "nbformat": 4,
 "nbformat_minor": 4
}
